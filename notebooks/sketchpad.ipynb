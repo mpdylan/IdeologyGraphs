{
 "cells": [
  {
   "cell_type": "markdown",
   "metadata": {},
   "source": [
    "# Sketchpad\n",
    "\n",
    "Various experiments with ideology graphs."
   ]
  },
  {
   "cell_type": "code",
   "execution_count": null,
   "metadata": {
    "scrolled": true
   },
   "outputs": [],
   "source": [
    "# imports and includes\n",
    "using LightGraphs, MetaGraphs, SNAPDatasets, Random, GraphPlot, Compose, Plots\n",
    "include(\"../src/models.jl\")   # Graph models\n",
    "include(\"../src/dynamics.jl\") # Dynamical systems\n",
    "include(\"../src/dataviz.jl\")  # Plotting for our graphs"
   ]
  },
  {
   "cell_type": "markdown",
   "metadata": {},
   "source": [
    "## Simple ideology graphs\n",
    "\n",
    "Here we do the simple experiments. No quality attribute, 1- and 2-D ideology attributes, various graph generation models. No \"media accounts.\"\n",
    "\n",
    "### Erdos-Renyi models with a few different parameters. Small models.\n"
   ]
  },
  {
   "cell_type": "code",
   "execution_count": null,
   "metadata": {
    "scrolled": false
   },
   "outputs": [],
   "source": [
    "model = ermodel(20, 0.3, IGraph)\n",
    "assignid!(model)\n",
    "colornet!(model)\n",
    "drawcolorgraph(model)"
   ]
  },
  {
   "cell_type": "code",
   "execution_count": null,
   "metadata": {
    "scrolled": true
   },
   "outputs": [],
   "source": [
    "model2 = copy(model)\n",
    "drawcolorgraph(model)"
   ]
  },
  {
   "cell_type": "markdown",
   "metadata": {},
   "source": [
    "### Erdos-Renyi model with media accounts added"
   ]
  },
  {
   "cell_type": "code",
   "execution_count": null,
   "metadata": {
    "scrolled": true
   },
   "outputs": [],
   "source": [
    "#model = ermodel(30, 0.2, IGraph)\n",
    "#assignid!(model)\n",
    "#addmedia_rand!(model, 2, 6, 0.5)\n",
    "#colornet!(model)\n",
    "#drawcolorgraph(model)\n",
    "R = Array{Float64,1}(undef, 100)\n",
    "for i = 1:100\n",
    "    model = ermodel(30, 0.2, IGraph)\n",
    "    assignid!(model)\n",
    "    addmedia_rand!(model, 2, 6, 0.5)\n",
    "    R[i] = R_M(model, 0.5, 0.5) / R_0(model, 0.5, 0.5)\n",
    "end\n",
    "sum(R) / 100"
   ]
  },
  {
   "cell_type": "code",
   "execution_count": null,
   "metadata": {
    "scrolled": true
   },
   "outputs": [],
   "source": [
    "model = wsmodel(50, 4, 0.3, IGraph)\n",
    "assignid!(model)\n",
    "addmedia_nearest!(model, 2, 5, [-0.9, 0.9])\n",
    "colornet!(model)\n",
    "drawcolorgraph(model)"
   ]
  },
  {
   "cell_type": "markdown",
   "metadata": {},
   "source": [
    "## Timing benchmarks"
   ]
  },
  {
   "cell_type": "code",
   "execution_count": null,
   "metadata": {
    "scrolled": true
   },
   "outputs": [],
   "source": [
    "@time model = ermodel(1000, 0.025, IGraph)"
   ]
  },
  {
   "cell_type": "code",
   "execution_count": null,
   "metadata": {
    "scrolled": true
   },
   "outputs": [],
   "source": [
    "@time assignid!(model)"
   ]
  },
  {
   "cell_type": "code",
   "execution_count": null,
   "metadata": {
    "scrolled": true
   },
   "outputs": [],
   "source": [
    "@time addmedia_rand!(model, 10, 20, 0.6)"
   ]
  },
  {
   "cell_type": "code",
   "execution_count": null,
   "metadata": {
    "scrolled": true
   },
   "outputs": [],
   "source": [
    "@time updateg2!(model, 0.5)"
   ]
  },
  {
   "cell_type": "code",
   "execution_count": null,
   "metadata": {
    "scrolled": true
   },
   "outputs": [],
   "source": [
    "function updateg2!(g::IGraph, c)\n",
    "    newids = Array{Float64, 1}()\n",
    "\n",
    "    # for v in vertices(g.g) append!(newids, id_update(g, v, c)) end\n",
    "    newids = [id_update(g,v,c) for v in vertices(g.g)]\n",
    "    m = maximum([newids[v] - props(g.g, v)[:ideology] for v in vertices(g.g)])\n",
    "    for v in vertices(g.g)\n",
    "        if !has_prop(g.g, v, :media)\n",
    "            set_prop!(g.g, v, :ideology, newids[v])\n",
    "        end\n",
    "    end\n",
    "    (newids, m)\n",
    "end"
   ]
  },
  {
   "cell_type": "code",
   "execution_count": null,
   "metadata": {
    "scrolled": true
   },
   "outputs": [],
   "source": [
    "@time id_update(model, 1, 0.5)"
   ]
  },
  {
   "cell_type": "code",
   "execution_count": null,
   "metadata": {
    "scrolled": true
   },
   "outputs": [],
   "source": [
    "function id_update2(g::IGraph, v, c, selfweight = 1)\n",
    "    selfid = props(g.g, v)[:ideology]\n",
    "    newid = selfid * selfweight\n",
    "    n = 0\n",
    "    for w in neighbors(g.g, v)\n",
    "        i = props(g.g, w)[:ideology]\n",
    "        if g.distance(i, selfid) <= c\n",
    "            newid += i\n",
    "            n += 1\n",
    "        end\n",
    "    end\n",
    "    newid / (n + selfweight)\n",
    "end"
   ]
  },
  {
   "cell_type": "code",
   "execution_count": null,
   "metadata": {
    "scrolled": true
   },
   "outputs": [],
   "source": [
    "@time id_update2(model, 1, 0.5)"
   ]
  },
  {
   "cell_type": "code",
   "execution_count": null,
   "metadata": {
    "scrolled": true
   },
   "outputs": [],
   "source": [
    "@time fullsim!(model, 0.5)"
   ]
  },
  {
   "cell_type": "code",
   "execution_count": null,
   "metadata": {
    "scrolled": true
   },
   "outputs": [],
   "source": [
    "[props(model.g, i)[:ideology] for i = 1:nv(model.g)]"
   ]
  },
  {
   "cell_type": "code",
   "execution_count": null,
   "metadata": {
    "scrolled": true
   },
   "outputs": [],
   "source": [
    "function fullsim_blank!(g::IGraph, c, tol = 10^(-4), maxsteps = 1000)\n",
    "    m = 1\n",
    "    #ids = [props(g.g, v)[:ideology] for v in vertices(g.g)]\n",
    "    steps = 0\n",
    "    while m > tol && steps < maxsteps\n",
    "        m = updateg!(g, c)[2]\n",
    "    end\n",
    "    return true\n",
    "end"
   ]
  },
  {
   "cell_type": "code",
   "execution_count": null,
   "metadata": {
    "scrolled": true
   },
   "outputs": [],
   "source": [
    "model = ermodel(250, 0.3, IGraph)\n",
    "assignid!(model)\n",
    "addmedia_rand!(model, 10, 20, 0.6)\n",
    "@time modelb = copy(model)"
   ]
  },
  {
   "cell_type": "code",
   "execution_count": null,
   "metadata": {
    "scrolled": true
   },
   "outputs": [],
   "source": [
    "@time fullsim_blank!(model, 0.5)"
   ]
  },
  {
   "cell_type": "code",
   "execution_count": null,
   "metadata": {
    "scrolled": true
   },
   "outputs": [],
   "source": [
    "@time fullsim!(modelb, 0.5)"
   ]
  },
  {
   "cell_type": "markdown",
   "metadata": {},
   "source": [
    "### Graph from the Facebook100 data set"
   ]
  },
  {
   "cell_type": "code",
   "execution_count": null,
   "metadata": {
    "scrolled": true
   },
   "outputs": [],
   "source": [
    "reed = fbgraph(\"Reed98\", IGraph)\n",
    "harvard = fbgraph(\"Harvard1\", IGraph)"
   ]
  },
  {
   "cell_type": "code",
   "execution_count": null,
   "metadata": {
    "scrolled": true
   },
   "outputs": [],
   "source": [
    "@time assignid!(reed)\n",
    "addmedia_rand!(reed, 11, 225, 0.9)\n",
    "@time assignid!(harvard)\n",
    "addmedia_rand!(harvard, 30, 300, 0.9)\n",
    "#colornet!(reed)\n",
    "#drawcolorgraph(reed)"
   ]
  },
  {
   "cell_type": "code",
   "execution_count": null,
   "metadata": {},
   "outputs": [],
   "source": [
    "n(harvard.g)"
   ]
  },
  {
   "cell_type": "code",
   "execution_count": null,
   "metadata": {
    "scrolled": true
   },
   "outputs": [],
   "source": [
    "@time reed_ids = fullsim!(reed, 0.5)\n",
    "@time harvard_ids = fullsim!(harvard, 0.5)"
   ]
  },
  {
   "cell_type": "code",
   "execution_count": null,
   "metadata": {},
   "outputs": [],
   "source": [
    "plot(1:size(reed_ids)[2],transpose(reed_ids))"
   ]
  },
  {
   "cell_type": "markdown",
   "metadata": {},
   "source": [
    "## Simple dynamical experiments\n",
    "\n",
    "In a simple ER model all but the most extreme accounts homogenize to a fairly neutral ideology. In sufficiently connected graphs, or with a large enough acceptance parameter, all accounts will generally homogenize."
   ]
  },
  {
   "cell_type": "code",
   "execution_count": null,
   "metadata": {
    "scrolled": true
   },
   "outputs": [],
   "source": [
    "model = ermodel(20, 0.3, IGraph)\n",
    "assignid!(model)\n",
    "ids = fullsim!(model, 0.5)\n"
   ]
  },
  {
   "cell_type": "code",
   "execution_count": null,
   "metadata": {
    "scrolled": true
   },
   "outputs": [],
   "source": [
    "ids"
   ]
  },
  {
   "cell_type": "code",
   "execution_count": null,
   "metadata": {
    "scrolled": true
   },
   "outputs": [],
   "source": [
    "plot(1:size(ids)[2],transpose(ids))"
   ]
  },
  {
   "cell_type": "code",
   "execution_count": null,
   "metadata": {
    "scrolled": true
   },
   "outputs": [],
   "source": [
    "colornet!(model)\n",
    "drawcolorgraph(model)"
   ]
  },
  {
   "cell_type": "code",
   "execution_count": null,
   "metadata": {
    "scrolled": true
   },
   "outputs": [],
   "source": [
    "model = ermodel(60, 0.1, IGraph)\n",
    "assignid!(model)\n",
    "ids, steps = fullsim!(model, 0.9)\n",
    "@gif for i=1:size(ids)[2]\n",
    "    plot(1:i,transpose(ids)[1:i, :], xlims=(1, size(ids)[2]))\n",
    "end"
   ]
  },
  {
   "cell_type": "code",
   "execution_count": null,
   "metadata": {
    "scrolled": true
   },
   "outputs": [],
   "source": [
    "colornet!(model)\n",
    "drawcolorgraph(model)"
   ]
  },
  {
   "cell_type": "markdown",
   "metadata": {},
   "source": [
    "In the presence of a media account, many accounts will become \"entrained\" to the media account. A handful of accounts may retain different ideology."
   ]
  },
  {
   "cell_type": "code",
   "execution_count": null,
   "metadata": {
    "scrolled": true
   },
   "outputs": [],
   "source": [
    "model = ermodel(120, 0.1, IGraph)\n",
    "assignid!(model)\n",
    "addmedia_nearest!(model, 1, 12, [0.8])\n",
    "addmedia_nearest!(model, 1, 12, [-0.8])\n",
    "ids = fullsim!(model, 0.5)\n",
    "@gif for i=1:size(ids)[2]\n",
    "    plot(1:i,transpose(ids)[1:i, :], xlims=(1, size(ids)[2]), legend = nothing)\n",
    "end"
   ]
  },
  {
   "cell_type": "code",
   "execution_count": null,
   "metadata": {
    "scrolled": true
   },
   "outputs": [],
   "source": [
    "model = ermodel(20, 0.3, IGraph)\n",
    "assignid!(model)\n",
    "#addmedia_rand!(model, 1, 12, 0.8)\n",
    "#addmedia_rand!(model, 1, 12, -0.8)\n",
    "ids = fullsim!(model, 0.5)\n",
    "@gif for i=1:size(ids)[2]\n",
    "    plot(1:i,transpose(ids)[1:i, :], xlims=(1, size(ids)[2]), legend = nothing)\n",
    "end"
   ]
  },
  {
   "cell_type": "code",
   "execution_count": null,
   "metadata": {
    "scrolled": true
   },
   "outputs": [],
   "source": [
    "model = wsmodel(100, 8, 0.5, IGraph)\n",
    "assignid!(model)\n",
    "addmedia_nearest!(model, 1, 12, [0.8])\n",
    "addmedia_nearest!(model, 1, 12, [-0.8])\n",
    "ids, steps = fullsim!(model, 0.5, 10^(-4), 1000)\n",
    "@gif for i=1:size(ids)[2]\n",
    "    plot(1:i,transpose(ids)[1:i, :], xlims=(1, size(ids)[2]))\n",
    "end"
   ]
  },
  {
   "cell_type": "code",
   "execution_count": null,
   "metadata": {
    "scrolled": true
   },
   "outputs": [],
   "source": [
    "model = wsmodel(100, 8, 0.5, IGraph)\n",
    "assignid!(model)\n",
    "addmedia_rand!(model, 2, 12, 0.6)\n",
    "addmedia_rand!(model, 2, 12, -0.6)\n",
    "ids, steps = fullsim!(model, 0.5, 10^(-4), 1000)\n",
    "@gif for i=1:size(ids)[2]\n",
    "    plot(1:i,transpose(ids)[1:i, :], xlims=(1, size(ids)[2]))\n",
    "end"
   ]
  },
  {
   "cell_type": "code",
   "execution_count": null,
   "metadata": {
    "scrolled": true
   },
   "outputs": [],
   "source": [
    "model = SNAPIdeog(:ego_twitter_u, IGraph)\n",
    "assignid!(model)\n",
    "addmedia_nearest!(model, 10, 1000, [0.3, 0.3, 0.3, 0.5, 0.5, 0.5, 0.5, 0.7, 0.7, 0.7])\n",
    "addmedia_nearest!(model, 10, 1000, [-0.3, -0.3, -0.3, -0.5, -0.5, -0.5, -0.5, -0.7, -0.7, -0.7])"
   ]
  },
  {
   "cell_type": "code",
   "execution_count": null,
   "metadata": {
    "scrolled": true
   },
   "outputs": [],
   "source": [
    "ids, steps = fullsim!(model, 0.5, 10^(-4), 300)"
   ]
  },
  {
   "cell_type": "code",
   "execution_count": null,
   "metadata": {
    "scrolled": true
   },
   "outputs": [],
   "source": [
    "@gif for i=1:size(ids)[2]\n",
    "    plot(1:i,transpose(ids)[1:i, :], xlims=(1, size(ids)[2]))\n",
    "end"
   ]
  },
  {
   "cell_type": "code",
   "execution_count": null,
   "metadata": {
    "scrolled": true
   },
   "outputs": [],
   "source": [
    "verts = random_verts(model.g, 500)\n",
    "@gif for i=1:size(ids)[2]\n",
    "    plot(1:i,transpose(ids)[1:i, verts], xlims=(1, size(ids)[2]), legend = nothing)\n",
    "end"
   ]
  },
  {
   "cell_type": "code",
   "execution_count": null,
   "metadata": {
    "scrolled": true
   },
   "outputs": [],
   "source": []
  }
 ],
 "metadata": {
  "kernelspec": {
   "display_name": "Julia 1.3.1",
   "language": "julia",
   "name": "julia-1.3"
  },
  "language_info": {
   "file_extension": ".jl",
   "mimetype": "application/julia",
   "name": "julia",
   "version": "1.3.1"
  }
 },
 "nbformat": 4,
 "nbformat_minor": 2
}
