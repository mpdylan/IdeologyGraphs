{
 "cells": [
  {
   "cell_type": "markdown",
   "metadata": {},
   "source": [
    "# Sketchpad\n",
    "\n",
    "Various experiments with ideology graphs."
   ]
  },
  {
   "cell_type": "code",
   "execution_count": 31,
   "metadata": {},
   "outputs": [
    {
     "name": "stderr",
     "output_type": "stream",
     "text": [
      "WARNING: redefining constant DEFAULT_DIST\n",
      "WARNING: redefining constant colorlist\n",
      "WARNING: redefining constant colorbreaks\n"
     ]
    },
    {
     "data": {
      "text/plain": [
       "drawcolorgraph (generic function with 1 method)"
      ]
     },
     "execution_count": 31,
     "metadata": {},
     "output_type": "execute_result"
    }
   ],
   "source": [
    "# imports and includes\n",
    "using LightGraphs, MetaGraphs, SNAPDatasets, Random, GraphPlot, Compose, Plots\n",
    "include(\"../src/models.jl\")   # Graph models\n",
    "include(\"../src/dynamics.jl\") # Dynamical systems\n",
    "include(\"../src/dataviz.jl\")  # Plotting for our graphs"
   ]
  },
  {
   "cell_type": "markdown",
   "metadata": {},
   "source": [
    "## Simple ideology graphs\n",
    "\n",
    "Here we do the simple experiments. No quality attribute, 1- and 2-D ideology attributes, various graph generation models. No \"media accounts.\"\n",
    "\n",
    "### Erdos-Renyi models with a few different parameters. Small models.\n"
   ]
  },
  {
   "cell_type": "code",
   "execution_count": null,
   "metadata": {
    "scrolled": true
   },
   "outputs": [],
   "source": [
    "model = ermodel(20, 0.3, IGraph)\n",
    "assignid!(model)\n",
    "colornet!(model)\n",
    "drawcolorgraph(model)"
   ]
  },
  {
   "cell_type": "code",
   "execution_count": null,
   "metadata": {},
   "outputs": [],
   "source": [
    "model2 = copy(model)\n",
    "drawcolorgraph(model)"
   ]
  },
  {
   "cell_type": "markdown",
   "metadata": {},
   "source": [
    "### Erdos-Renyi model with media accounts added"
   ]
  },
  {
   "cell_type": "code",
   "execution_count": null,
   "metadata": {},
   "outputs": [],
   "source": [
    "#model = ermodel(30, 0.2, IGraph)\n",
    "#assignid!(model)\n",
    "#addmedia_rand!(model, 2, 6, 0.5)\n",
    "#colornet!(model)\n",
    "#drawcolorgraph(model)\n",
    "R = Array{Float64,1}(undef, 100)\n",
    "for i = 1:100\n",
    "    model = ermodel(30, 0.2, IGraph)\n",
    "    assignid!(model)\n",
    "    addmedia_rand!(model, 2, 6, 0.5)\n",
    "    R[i] = R_M(model, 0.5, 0.5) / R_0(model, 0.5, 0.5)\n",
    "end\n",
    "sum(R) / 100"
   ]
  },
  {
   "cell_type": "code",
   "execution_count": null,
   "metadata": {},
   "outputs": [],
   "source": [
    "model = wsmodel(50, 4, 0.3, IGraph)\n",
    "assignid!(model)\n",
    "addmedia_nearest!(model, 2, 5, [-0.9, 0.9])\n",
    "colornet!(model)\n",
    "drawcolorgraph(model)"
   ]
  },
  {
   "cell_type": "markdown",
   "metadata": {},
   "source": [
    "## Timing benchmarks"
   ]
  },
  {
   "cell_type": "code",
   "execution_count": 3,
   "metadata": {},
   "outputs": [
    {
     "name": "stdout",
     "output_type": "stream",
     "text": [
      "  0.002031 seconds (6.12 k allocations: 961.891 KiB)\n"
     ]
    },
    {
     "data": {
      "text/plain": [
       "IGraph{Int64}({1000, 12367} undirected Int64 metagraph with Float64 weights defined by :weight (default weight 1.0), 1, false, var\"#3#5\"())"
      ]
     },
     "execution_count": 3,
     "metadata": {},
     "output_type": "execute_result"
    }
   ],
   "source": [
    "@time model = ermodel(1000, 0.025, IGraph)"
   ]
  },
  {
   "cell_type": "code",
   "execution_count": 9,
   "metadata": {},
   "outputs": [
    {
     "name": "stdout",
     "output_type": "stream",
     "text": [
      "  0.000624 seconds (12.01 k allocations: 1.114 MiB)\n"
     ]
    }
   ],
   "source": [
    "@time assignid!(model)"
   ]
  },
  {
   "cell_type": "code",
   "execution_count": null,
   "metadata": {},
   "outputs": [],
   "source": [
    "@time addmedia_rand!(model, 10, 20, 0.6)"
   ]
  },
  {
   "cell_type": "code",
   "execution_count": null,
   "metadata": {},
   "outputs": [],
   "source": [
    "@time updateg2!(model, 0.5)"
   ]
  },
  {
   "cell_type": "code",
   "execution_count": null,
   "metadata": {},
   "outputs": [],
   "source": [
    "function updateg2!(g::IGraph, c)\n",
    "    newids = Array{Float64, 1}()\n",
    "\n",
    "    # for v in vertices(g.g) append!(newids, id_update(g, v, c)) end\n",
    "    newids = [id_update(g,v,c) for v in vertices(g.g)]\n",
    "    m = maximum([newids[v] - props(g.g, v)[:ideology] for v in vertices(g.g)])\n",
    "    for v in vertices(g.g)\n",
    "        if !has_prop(g.g, v, :media)\n",
    "            set_prop!(g.g, v, :ideology, newids[v])\n",
    "        end\n",
    "    end\n",
    "    (newids, m)\n",
    "end"
   ]
  },
  {
   "cell_type": "code",
   "execution_count": null,
   "metadata": {},
   "outputs": [],
   "source": [
    "@time id_update(model, 1, 0.5)"
   ]
  },
  {
   "cell_type": "code",
   "execution_count": null,
   "metadata": {},
   "outputs": [],
   "source": [
    "function id_update2(g::IGraph, v, c, selfweight = 1)\n",
    "    selfid = props(g.g, v)[:ideology]\n",
    "    newid = selfid * selfweight\n",
    "    n = 0\n",
    "    for w in neighbors(g.g, v)\n",
    "        i = props(g.g, w)[:ideology]\n",
    "        if g.distance(i, selfid) <= c\n",
    "            newid += i\n",
    "            n += 1\n",
    "        end\n",
    "    end\n",
    "    newid / (n + selfweight)\n",
    "end"
   ]
  },
  {
   "cell_type": "code",
   "execution_count": null,
   "metadata": {},
   "outputs": [],
   "source": [
    "@time id_update2(model, 1, 0.5)"
   ]
  },
  {
   "cell_type": "code",
   "execution_count": 35,
   "metadata": {},
   "outputs": [
    {
     "name": "stdout",
     "output_type": "stream",
     "text": [
      "  0.001218 seconds (20.52 k allocations: 2.223 MiB)\n"
     ]
    },
    {
     "data": {
      "text/plain": [
       "122×2 Array{Float64,2}:\n",
       "  0.0115531   0.0115645\n",
       "  0.0115457   0.0115606\n",
       "  0.0115896   0.0115847\n",
       "  0.0115713   0.0115739\n",
       "  0.0115158   0.0115447\n",
       "  0.0115452   0.01156  \n",
       "  0.0116031   0.0115919\n",
       "  0.0115777   0.0115775\n",
       "  0.0115636   0.0115707\n",
       "  0.0115604   0.0115687\n",
       "  0.011577    0.0115778\n",
       "  0.0115974   0.0115884\n",
       "  0.0115669   0.0115721\n",
       "  ⋮                    \n",
       "  0.0115614   0.011569 \n",
       "  0.0115684   0.0115738\n",
       "  0.0115589   0.0115675\n",
       "  0.0115347   0.0115542\n",
       "  0.0115864   0.0115832\n",
       "  0.0115665   0.0115719\n",
       "  0.0115539   0.0115653\n",
       "  0.0115999   0.0115903\n",
       "  0.0115916   0.0115851\n",
       "  0.0115736   0.0115756\n",
       "  0.8         0.8      \n",
       " -0.8        -0.8      "
      ]
     },
     "execution_count": 35,
     "metadata": {},
     "output_type": "execute_result"
    }
   ],
   "source": [
    "@time fullsim!(model, 0.5)"
   ]
  },
  {
   "cell_type": "code",
   "execution_count": 11,
   "metadata": {},
   "outputs": [
    {
     "data": {
      "text/plain": [
       "1000-element Array{Float64,1}:\n",
       " -22.052                 \n",
       "  -3.896                 \n",
       "  35.81                  \n",
       "   1.6219999999999997    \n",
       "   1.3158125696247362e301\n",
       " -12.718                 \n",
       "   0.40199999999999997   \n",
       "  -8.57                  \n",
       "  37.494                 \n",
       "  13.722000000000001     \n",
       "  94.688                 \n",
       "   4.721870554718084e301 \n",
       "  -4.09                  \n",
       "   ⋮                     \n",
       "   7.824000000000001     \n",
       "  -5.678                 \n",
       "   6.062                 \n",
       "   3.29                  \n",
       " -63.768                 \n",
       "  -1.7178961744713832e301\n",
       "   6.45664298975265e301  \n",
       "  -9.498000000000001     \n",
       "  -2.506                 \n",
       "   6.166                 \n",
       " -13.376000000000001     \n",
       "   8.276                 "
      ]
     },
     "execution_count": 11,
     "metadata": {},
     "output_type": "execute_result"
    }
   ],
   "source": [
    "[props(model.g, i)[:ideology] for i = 1:nv(model.g)]"
   ]
  },
  {
   "cell_type": "code",
   "execution_count": null,
   "metadata": {},
   "outputs": [],
   "source": [
    "function fullsim_blank!(g::IGraph, c, tol = 10^(-4), maxsteps = 1000)\n",
    "    m = 1\n",
    "    #ids = [props(g.g, v)[:ideology] for v in vertices(g.g)]\n",
    "    steps = 0\n",
    "    while m > tol && steps < maxsteps\n",
    "        m = updateg!(g, c)[2]\n",
    "    end\n",
    "    return true\n",
    "end"
   ]
  },
  {
   "cell_type": "code",
   "execution_count": null,
   "metadata": {},
   "outputs": [],
   "source": [
    "model = ermodel(250, 0.3, IGraph)\n",
    "assignid!(model)\n",
    "addmedia_rand!(model, 10, 20, 0.6)\n",
    "@time modelb = copy(model)"
   ]
  },
  {
   "cell_type": "code",
   "execution_count": null,
   "metadata": {},
   "outputs": [],
   "source": [
    "@time fullsim_blank!(model, 0.5)"
   ]
  },
  {
   "cell_type": "code",
   "execution_count": null,
   "metadata": {},
   "outputs": [],
   "source": [
    "@time fullsim!(modelb, 0.5)"
   ]
  },
  {
   "cell_type": "markdown",
   "metadata": {},
   "source": [
    "## Simple dynamical experiments\n",
    "\n",
    "In a simple ER model all but the most extreme accounts homogenize to a fairly neutral ideology. In sufficiently connected graphs, or with a large enough acceptance parameter, all accounts will generally homogenize."
   ]
  },
  {
   "cell_type": "code",
   "execution_count": 32,
   "metadata": {},
   "outputs": [
    {
     "data": {
      "text/plain": [
       "20×36 Array{Float64,2}:\n",
       " -0.9  -0.75       -0.65        …  0.039856   0.0398197  0.0397968\n",
       " -0.5  -0.6        -0.603333       0.0395469  0.0396214  0.0396694\n",
       " -0.6  -0.55       -0.575          0.0397645  0.0397624  0.0397607\n",
       "  0.8   0.7         0.7125         0.0397012  0.03972    0.0397323\n",
       "  0.7   0.633333    0.4775         0.0399293  0.03987    0.039831 \n",
       " -0.2  -0.4        -0.4125      …  0.0397251  0.0397372  0.0397447\n",
       " -0.1  -0.0666667   0.0377778      0.039867   0.0398281  0.0398028\n",
       "  0.0   0.216667    0.234762       0.0398575  0.0398221  0.0397991\n",
       "  0.9   0.8         0.716667       0.0397867  0.0397776  0.039771 \n",
       "  0.2   0.075       0.0333333      0.0398188  0.0397959  0.0397814\n",
       " -0.3  -0.1        -0.0463333   …  0.0398628  0.0398249  0.0398005\n",
       " -1.0  -0.733333   -0.688889       0.0393922  0.039521   0.0396043\n",
       "  0.3   0.26        0.194722       0.0399067  0.0398544  0.0398203\n",
       "  0.5   0.3         0.352083       0.0396055  0.0396587  0.0396929\n",
       "  0.6   0.725       0.63125        0.0397689  0.0397623  0.039759 \n",
       "  1.0   0.8         0.7625      …  0.039873   0.0398292  0.0398018\n",
       "  0.4   0.225       0.105333       0.0397931  0.0397804  0.0397719\n",
       " -0.4  -0.25       -0.00416667     0.0397666  0.0397627  0.0397605\n",
       "  0.1   0.166667    0.133333       0.0396803  0.0397074  0.0397251\n",
       " -0.7  -0.733333   -0.688889       0.0395395  0.039616   0.0396656"
      ]
     },
     "execution_count": 32,
     "metadata": {},
     "output_type": "execute_result"
    }
   ],
   "source": [
    "model = ermodel(20, 0.3, IGraph)\n",
    "assignid!(model)\n",
    "ids = fullsim!(model, 0.5)\n"
   ]
  },
  {
   "cell_type": "code",
   "execution_count": 17,
   "metadata": {},
   "outputs": [
    {
     "data": {
      "text/plain": [
       "0.6"
      ]
     },
     "execution_count": 17,
     "metadata": {},
     "output_type": "execute_result"
    }
   ],
   "source": [
    "ids"
   ]
  },
  {
   "cell_type": "code",
   "execution_count": 33,
   "metadata": {},
   "outputs": [
    {
     "data": {
      "image/svg+xml": [
       "<?xml version=\"1.0\" encoding=\"utf-8\"?>\n",
       "<svg xmlns=\"http://www.w3.org/2000/svg\" xmlns:xlink=\"http://www.w3.org/1999/xlink\" width=\"600\" height=\"400\" viewBox=\"0 0 2400 1600\">\n",
       "<defs>\n",
       "  <clipPath id=\"clip6000\">\n",
       "    <rect x=\"0\" y=\"0\" width=\"2400\" height=\"1600\"/>\n",
       "  </clipPath>\n",
       "</defs>\n",
       "<path clip-path=\"url(#clip6000)\" d=\"\n",
       "M0 1600 L2400 1600 L2400 0 L0 0  Z\n",
       "  \" fill=\"#ffffff\" fill-rule=\"evenodd\" fill-opacity=\"1\"/>\n",
       "<defs>\n",
       "  <clipPath id=\"clip6001\">\n",
       "    <rect x=\"480\" y=\"0\" width=\"1681\" height=\"1600\"/>\n",
       "  </clipPath>\n",
       "</defs>\n",
       "<path clip-path=\"url(#clip6000)\" d=\"\n",
       "M182.008 1487.47 L2352.76 1487.47 L2352.76 47.2441 L182.008 47.2441  Z\n",
       "  \" fill=\"#ffffff\" fill-rule=\"evenodd\" fill-opacity=\"1\"/>\n",
       "<defs>\n",
       "  <clipPath id=\"clip6002\">\n",
       "    <rect x=\"182\" y=\"47\" width=\"2172\" height=\"1441\"/>\n",
       "  </clipPath>\n",
       "</defs>\n",
       "<polyline clip-path=\"url(#clip6002)\" style=\"stroke:#000000; stroke-width:2; stroke-opacity:0.1; fill:none\" points=\"\n",
       "  184.934,1487.47 184.934,47.2441 \n",
       "  \"/>\n",
       "<polyline clip-path=\"url(#clip6002)\" style=\"stroke:#000000; stroke-width:2; stroke-opacity:0.1; fill:none\" points=\"\n",
       "  770.041,1487.47 770.041,47.2441 \n",
       "  \"/>\n",
       "<polyline clip-path=\"url(#clip6002)\" style=\"stroke:#000000; stroke-width:2; stroke-opacity:0.1; fill:none\" points=\"\n",
       "  1355.15,1487.47 1355.15,47.2441 \n",
       "  \"/>\n",
       "<polyline clip-path=\"url(#clip6002)\" style=\"stroke:#000000; stroke-width:2; stroke-opacity:0.1; fill:none\" points=\"\n",
       "  1940.26,1487.47 1940.26,47.2441 \n",
       "  \"/>\n",
       "<polyline clip-path=\"url(#clip6002)\" style=\"stroke:#000000; stroke-width:2; stroke-opacity:0.1; fill:none\" points=\"\n",
       "  182.008,1446.71 2352.76,1446.71 \n",
       "  \"/>\n",
       "<polyline clip-path=\"url(#clip6002)\" style=\"stroke:#000000; stroke-width:2; stroke-opacity:0.1; fill:none\" points=\"\n",
       "  182.008,1107.04 2352.76,1107.04 \n",
       "  \"/>\n",
       "<polyline clip-path=\"url(#clip6002)\" style=\"stroke:#000000; stroke-width:2; stroke-opacity:0.1; fill:none\" points=\"\n",
       "  182.008,767.359 2352.76,767.359 \n",
       "  \"/>\n",
       "<polyline clip-path=\"url(#clip6002)\" style=\"stroke:#000000; stroke-width:2; stroke-opacity:0.1; fill:none\" points=\"\n",
       "  182.008,427.682 2352.76,427.682 \n",
       "  \"/>\n",
       "<polyline clip-path=\"url(#clip6002)\" style=\"stroke:#000000; stroke-width:2; stroke-opacity:0.1; fill:none\" points=\"\n",
       "  182.008,88.0053 2352.76,88.0053 \n",
       "  \"/>\n",
       "<polyline clip-path=\"url(#clip6000)\" style=\"stroke:#000000; stroke-width:4; stroke-opacity:1; fill:none\" points=\"\n",
       "  182.008,1487.47 2352.76,1487.47 \n",
       "  \"/>\n",
       "<polyline clip-path=\"url(#clip6000)\" style=\"stroke:#000000; stroke-width:4; stroke-opacity:1; fill:none\" points=\"\n",
       "  182.008,1487.47 182.008,47.2441 \n",
       "  \"/>\n",
       "<polyline clip-path=\"url(#clip6000)\" style=\"stroke:#000000; stroke-width:4; stroke-opacity:1; fill:none\" points=\"\n",
       "  184.934,1487.47 184.934,1470.19 \n",
       "  \"/>\n",
       "<polyline clip-path=\"url(#clip6000)\" style=\"stroke:#000000; stroke-width:4; stroke-opacity:1; fill:none\" points=\"\n",
       "  770.041,1487.47 770.041,1470.19 \n",
       "  \"/>\n",
       "<polyline clip-path=\"url(#clip6000)\" style=\"stroke:#000000; stroke-width:4; stroke-opacity:1; fill:none\" points=\"\n",
       "  1355.15,1487.47 1355.15,1470.19 \n",
       "  \"/>\n",
       "<polyline clip-path=\"url(#clip6000)\" style=\"stroke:#000000; stroke-width:4; stroke-opacity:1; fill:none\" points=\"\n",
       "  1940.26,1487.47 1940.26,1470.19 \n",
       "  \"/>\n",
       "<polyline clip-path=\"url(#clip6000)\" style=\"stroke:#000000; stroke-width:4; stroke-opacity:1; fill:none\" points=\"\n",
       "  182.008,1446.71 208.057,1446.71 \n",
       "  \"/>\n",
       "<polyline clip-path=\"url(#clip6000)\" style=\"stroke:#000000; stroke-width:4; stroke-opacity:1; fill:none\" points=\"\n",
       "  182.008,1107.04 208.057,1107.04 \n",
       "  \"/>\n",
       "<polyline clip-path=\"url(#clip6000)\" style=\"stroke:#000000; stroke-width:4; stroke-opacity:1; fill:none\" points=\"\n",
       "  182.008,767.359 208.057,767.359 \n",
       "  \"/>\n",
       "<polyline clip-path=\"url(#clip6000)\" style=\"stroke:#000000; stroke-width:4; stroke-opacity:1; fill:none\" points=\"\n",
       "  182.008,427.682 208.057,427.682 \n",
       "  \"/>\n",
       "<polyline clip-path=\"url(#clip6000)\" style=\"stroke:#000000; stroke-width:4; stroke-opacity:1; fill:none\" points=\"\n",
       "  182.008,88.0053 208.057,88.0053 \n",
       "  \"/>\n",
       "<g clip-path=\"url(#clip6000)\">\n",
       "<text style=\"fill:#000000; fill-opacity:1; font-family:Arial,Helvetica Neue,Helvetica,sans-serif; font-size:48px; text-anchor:middle;\" transform=\"rotate(0, 184.934, 1541.47)\" x=\"184.934\" y=\"1541.47\">0</text>\n",
       "</g>\n",
       "<g clip-path=\"url(#clip6000)\">\n",
       "<text style=\"fill:#000000; fill-opacity:1; font-family:Arial,Helvetica Neue,Helvetica,sans-serif; font-size:48px; text-anchor:middle;\" transform=\"rotate(0, 770.041, 1541.47)\" x=\"770.041\" y=\"1541.47\">10</text>\n",
       "</g>\n",
       "<g clip-path=\"url(#clip6000)\">\n",
       "<text style=\"fill:#000000; fill-opacity:1; font-family:Arial,Helvetica Neue,Helvetica,sans-serif; font-size:48px; text-anchor:middle;\" transform=\"rotate(0, 1355.15, 1541.47)\" x=\"1355.15\" y=\"1541.47\">20</text>\n",
       "</g>\n",
       "<g clip-path=\"url(#clip6000)\">\n",
       "<text style=\"fill:#000000; fill-opacity:1; font-family:Arial,Helvetica Neue,Helvetica,sans-serif; font-size:48px; text-anchor:middle;\" transform=\"rotate(0, 1940.26, 1541.47)\" x=\"1940.26\" y=\"1541.47\">30</text>\n",
       "</g>\n",
       "<g clip-path=\"url(#clip6000)\">\n",
       "<text style=\"fill:#000000; fill-opacity:1; font-family:Arial,Helvetica Neue,Helvetica,sans-serif; font-size:48px; text-anchor:end;\" transform=\"rotate(0, 158.008, 1464.21)\" x=\"158.008\" y=\"1464.21\">-1.0</text>\n",
       "</g>\n",
       "<g clip-path=\"url(#clip6000)\">\n",
       "<text style=\"fill:#000000; fill-opacity:1; font-family:Arial,Helvetica Neue,Helvetica,sans-serif; font-size:48px; text-anchor:end;\" transform=\"rotate(0, 158.008, 1124.54)\" x=\"158.008\" y=\"1124.54\">-0.5</text>\n",
       "</g>\n",
       "<g clip-path=\"url(#clip6000)\">\n",
       "<text style=\"fill:#000000; fill-opacity:1; font-family:Arial,Helvetica Neue,Helvetica,sans-serif; font-size:48px; text-anchor:end;\" transform=\"rotate(0, 158.008, 784.859)\" x=\"158.008\" y=\"784.859\">0.0</text>\n",
       "</g>\n",
       "<g clip-path=\"url(#clip6000)\">\n",
       "<text style=\"fill:#000000; fill-opacity:1; font-family:Arial,Helvetica Neue,Helvetica,sans-serif; font-size:48px; text-anchor:end;\" transform=\"rotate(0, 158.008, 445.182)\" x=\"158.008\" y=\"445.182\">0.5</text>\n",
       "</g>\n",
       "<g clip-path=\"url(#clip6000)\">\n",
       "<text style=\"fill:#000000; fill-opacity:1; font-family:Arial,Helvetica Neue,Helvetica,sans-serif; font-size:48px; text-anchor:end;\" transform=\"rotate(0, 158.008, 105.505)\" x=\"158.008\" y=\"105.505\">1.0</text>\n",
       "</g>\n",
       "<polyline clip-path=\"url(#clip6002)\" style=\"stroke:#009af9; stroke-width:4; stroke-opacity:1; fill:none\" points=\"\n",
       "  243.444,1378.78 301.955,1276.87 360.466,1208.94 418.976,1183.46 477.487,1165.7 535.998,1151.29 594.509,1138.3 653.019,1125.9 711.53,1113.79 770.041,1101.69 \n",
       "  828.552,1087.89 887.062,1074.23 945.573,1060.78 1004.08,1047.85 1062.59,1027.2 1121.11,1007.84 1179.62,989.468 1238.13,786.599 1296.64,714.656 1355.15,717.35 \n",
       "  1413.66,719.874 1472.17,725.807 1530.68,731.248 1589.19,734.088 1647.7,736.496 1706.21,737.798 1764.72,738.763 1823.23,739.322 1881.74,739.705 1940.26,739.936 \n",
       "  1998.77,740.089 2057.28,740.183 2115.79,740.245 2174.3,740.283 2232.81,740.308 2291.32,740.323 \n",
       "  \"/>\n",
       "<polyline clip-path=\"url(#clip6002)\" style=\"stroke:#e26f46; stroke-width:4; stroke-opacity:1; fill:none\" points=\"\n",
       "  243.444,1107.04 301.955,1174.97 360.466,1177.24 418.976,1170.71 477.487,1159.21 535.998,1147.46 594.509,1135.34 653.019,1123.21 711.53,1110.9 770.041,1095.88 \n",
       "  828.552,1082.47 887.062,1069.31 945.573,1056.77 1004.08,1031.44 1062.59,1014.35 1121.11,997.727 1179.62,982.475 1238.13,901.764 1296.64,849.687 1355.15,834.764 \n",
       "  1413.66,787.637 1472.17,771.656 1530.68,759.18 1589.19,752.474 1647.7,747.969 1706.21,745.246 1764.72,743.471 1823.23,742.358 1881.74,741.638 1940.26,741.179 \n",
       "  1998.77,740.883 2057.28,740.694 2115.79,740.572 2174.3,740.493 2232.81,740.442 2291.32,740.41 \n",
       "  \"/>\n",
       "<polyline clip-path=\"url(#clip6002)\" style=\"stroke:#3da44d; stroke-width:4; stroke-opacity:1; fill:none\" points=\"\n",
       "  243.444,1174.97 301.955,1141 360.466,1157.99 418.976,1147.94 477.487,1136.88 535.998,1125.3 594.509,1113.5 653.019,1101.68 711.53,1089.6 770.041,1074.09 \n",
       "  828.552,1060.57 887.062,1047.34 945.573,1034.93 1004.08,1006.55 1062.59,988.472 1121.11,971.1 1179.62,822.118 1238.13,816.829 1296.64,778.568 1355.15,756.567 \n",
       "  1413.66,748.977 1472.17,745.655 1530.68,742.022 1589.19,741.441 1647.7,740.64 1706.21,740.54 1764.72,740.38 1823.23,740.367 1881.74,740.339 1940.26,740.341 \n",
       "  1998.77,740.339 2057.28,740.342 2115.79,740.343 2174.3,740.345 2232.81,740.347 2291.32,740.348 \n",
       "  \"/>\n",
       "<polyline clip-path=\"url(#clip6002)\" style=\"stroke:#c271d2; stroke-width:4; stroke-opacity:1; fill:none\" points=\"\n",
       "  243.444,223.876 301.955,291.812 360.466,283.32 418.976,310.918 477.487,436.546 535.998,492.596 594.509,522.191 653.019,535.837 711.53,566.5 770.041,580.724 \n",
       "  828.552,594.184 887.062,603.391 945.573,611.171 1004.08,617.347 1062.59,628.406 1121.11,634.69 1179.62,641.308 1238.13,659.825 1296.64,730.861 1355.15,729.607 \n",
       "  1413.66,736.281 1472.17,741.111 1530.68,740.922 1589.19,741.727 1647.7,741.233 1706.21,741.166 1764.72,740.885 1823.23,740.755 1881.74,740.618 1940.26,740.539 \n",
       "  1998.77,740.475 2057.28,740.435 2115.79,740.407 2174.3,740.388 2232.81,740.375 2291.32,740.367 \n",
       "  \"/>\n",
       "<polyline clip-path=\"url(#clip6002)\" style=\"stroke:#ac8d18; stroke-width:4; stroke-opacity:1; fill:none\" points=\"\n",
       "  243.444,291.812 301.955,337.102 360.466,442.968 418.976,491.601 477.487,533.77 535.998,595.843 594.509,614.761 653.019,624.076 711.53,626.407 770.041,624.702 \n",
       "  828.552,623.626 887.062,623.451 945.573,624.346 1004.08,642.775 1062.59,648.582 1121.11,654.266 1179.62,658.491 1238.13,684.01 1296.64,699.736 1355.15,710.061 \n",
       "  1413.66,714.121 1472.17,723.372 1530.68,728.915 1589.19,732.867 1647.7,735.397 1706.21,737.086 1764.72,738.191 1823.23,738.924 1881.74,739.407 1940.26,739.728 \n",
       "  1998.77,739.94 2057.28,740.08 2115.79,740.172 2174.3,740.233 2232.81,740.274 2291.32,740.3 \n",
       "  \"/>\n",
       "<polyline clip-path=\"url(#clip6002)\" style=\"stroke:#00a9ad; stroke-width:4; stroke-opacity:1; fill:none\" points=\"\n",
       "  243.444,903.23 301.955,1039.1 360.466,1047.59 418.976,1045.41 477.487,1039.41 535.998,1029.94 594.509,1019.58 653.019,1007.61 711.53,982.098 770.041,970.597 \n",
       "  828.552,958.411 887.062,948.828 945.573,873.714 1004.08,868.043 1062.59,854.374 1121.11,846.353 1179.62,838.419 1238.13,804.866 1296.64,785.3 1355.15,766.78 \n",
       "  1413.66,758.656 1472.17,748.945 1530.68,745.985 1589.19,743.261 1647.7,742.233 1706.21,741.404 1764.72,741.023 1823.23,740.745 1881.74,740.599 1940.26,740.5 \n",
       "  1998.77,740.444 2057.28,740.407 2115.79,740.386 2174.3,740.372 2232.81,740.364 2291.32,740.359 \n",
       "  \"/>\n",
       "<polyline clip-path=\"url(#clip6002)\" style=\"stroke:#ed5d92; stroke-width:4; stroke-opacity:1; fill:none\" points=\"\n",
       "  243.444,835.295 301.955,812.65 360.466,741.695 418.976,705.075 477.487,687.567 535.998,653.488 594.509,649.867 653.019,646.308 711.53,634.396 770.041,631.892 \n",
       "  828.552,631.782 887.062,633.123 945.573,635.244 1004.08,637.675 1062.59,642.31 1121.11,646.197 1179.62,650.703 1238.13,722.539 1296.64,713.613 1355.15,710.736 \n",
       "  1413.66,714.853 1472.17,727.058 1530.68,730.528 1589.19,734.697 1647.7,736.436 1706.21,737.954 1764.72,738.745 1823.23,739.338 1881.74,739.684 1940.26,739.925 \n",
       "  1998.77,740.072 2057.28,740.172 2115.79,740.234 2174.3,740.276 2232.81,740.302 2291.32,740.319 \n",
       "  \"/>\n",
       "<polyline clip-path=\"url(#clip6002)\" style=\"stroke:#c68125; stroke-width:4; stroke-opacity:1; fill:none\" points=\"\n",
       "  243.444,767.359 301.955,620.166 360.466,607.873 418.976,628.042 477.487,639.564 535.998,641.086 594.509,636.406 653.019,628.342 711.53,626.928 770.041,624.24 \n",
       "  828.552,623.961 887.062,624.767 945.573,626.447 1004.08,628.701 1062.59,633.669 1121.11,638.613 1179.62,684.108 1238.13,714.602 1296.64,711.283 1355.15,708.545 \n",
       "  1413.66,729.074 1472.17,729.27 1530.68,733.971 1589.19,735.577 1647.7,737.344 1706.21,738.276 1764.72,739.015 1823.23,739.457 1881.74,739.772 1940.26,739.969 \n",
       "  1998.77,740.103 2057.28,740.189 2115.79,740.245 2174.3,740.282 2232.81,740.306 2291.32,740.322 \n",
       "  \"/>\n",
       "<polyline clip-path=\"url(#clip6002)\" style=\"stroke:#00a98d; stroke-width:4; stroke-opacity:1; fill:none\" points=\"\n",
       "  243.444,155.941 301.955,223.876 360.466,280.489 418.976,361.728 477.487,549.581 535.998,558.11 594.509,579.741 653.019,589.662 711.53,596.505 770.041,601.043 \n",
       "  828.552,605.678 887.062,609.474 945.573,680.403 1004.08,681.704 1062.59,690.945 1121.11,693.523 1179.62,696.518 1238.13,709.04 1296.64,716.834 1355.15,724.314 \n",
       "  1413.66,728.816 1472.17,737.015 1530.68,737.647 1589.19,739.454 1647.7,739.611 1706.21,740.016 1764.72,740.08 1823.23,740.192 1881.74,740.228 1940.26,740.269 \n",
       "  1998.77,740.291 2057.28,740.309 2115.79,740.321 2174.3,740.33 2232.81,740.336 2291.32,740.341 \n",
       "  \"/>\n",
       "<polyline clip-path=\"url(#clip6002)\" style=\"stroke:#8e971d; stroke-width:4; stroke-opacity:1; fill:none\" points=\"\n",
       "  243.444,631.489 301.955,716.408 360.466,744.714 418.976,723.483 477.487,706.39 535.998,687.106 594.509,621.503 653.019,627.551 711.53,618.067 770.041,624.052 \n",
       "  828.552,626.331 887.062,630.116 945.573,633.368 1004.08,636.661 1062.59,639.553 1121.11,643.198 1179.62,646.948 1238.13,657.63 1296.64,687.587 1355.15,728.85 \n",
       "  1413.66,724.91 1472.17,732.122 1530.68,734 1589.19,736.577 1647.7,737.773 1706.21,738.76 1764.72,739.31 1823.23,739.7 1881.74,739.932 1940.26,740.088 \n",
       "  1998.77,740.183 2057.28,740.245 2115.79,740.284 2174.3,740.308 2232.81,740.324 2291.32,740.334 \n",
       "  \"/>\n",
       "<polyline clip-path=\"url(#clip6002)\" style=\"stroke:#00a8cb; stroke-width:4; stroke-opacity:1; fill:none\" points=\"\n",
       "  243.444,971.166 301.955,835.295 360.466,798.836 418.976,793.582 477.487,784.252 535.998,775.615 594.509,762.03 653.019,695.897 711.53,699.799 770.041,693.077 \n",
       "  828.552,693.863 887.062,693.619 945.573,694.401 1004.08,684.132 1062.59,683.622 1121.11,683.394 1179.62,684.8 1238.13,694.002 1296.64,703.509 1355.15,710.857 \n",
       "  1413.66,720.638 1472.17,726.654 1530.68,731.472 1589.19,734.535 1647.7,736.566 1706.21,737.91 1764.72,738.769 1823.23,739.334 1881.74,739.695 1940.26,739.929 \n",
       "  1998.77,740.079 2057.28,740.176 2115.79,740.238 2174.3,740.278 2232.81,740.304 2291.32,740.321 \n",
       "  \"/>\n",
       "<polyline clip-path=\"url(#clip6002)\" style=\"stroke:#9b7fe8; stroke-width:4; stroke-opacity:1; fill:none\" points=\"\n",
       "  243.444,1446.71 301.955,1265.55 360.466,1235.36 418.976,1215.98 477.487,1200.89 535.998,1187 594.509,1173.82 653.019,1160.99 711.53,1148.4 770.041,1135.9 \n",
       "  828.552,1122.56 887.062,1109.19 945.573,1095.9 1004.08,1082.86 1062.59,1065.72 1121.11,1048.6 1179.62,1031.64 1238.13,1015.25 1296.64,977.422 1355.15,871.94 \n",
       "  1413.66,822.802 1472.17,790.266 1530.68,772.41 1589.19,760.56 1647.7,753.352 1706.21,748.65 1764.72,745.697 1823.23,743.782 1881.74,742.564 1940.26,741.776 \n",
       "  1998.77,741.27 2057.28,740.944 2115.79,740.734 2174.3,740.598 2232.81,740.511 2291.32,740.454 \n",
       "  \"/>\n",
       "<polyline clip-path=\"url(#clip6002)\" style=\"stroke:#608cf6; stroke-width:4; stroke-opacity:1; fill:none\" points=\"\n",
       "  243.444,563.553 301.955,590.727 360.466,635.074 418.976,653.708 477.487,660.456 535.998,664.004 594.509,665.397 653.019,663.546 711.53,648.967 770.041,644.517 \n",
       "  828.552,640.538 887.062,639.691 945.573,639.902 1004.08,641.147 1062.59,643.868 1121.11,647.563 1179.62,696.923 1238.13,691.292 1296.64,712.392 1355.15,713.564 \n",
       "  1413.66,721.479 1472.17,726.001 1530.68,730.936 1589.19,733.688 1647.7,735.994 1706.21,737.384 1764.72,738.411 1823.23,739.056 1881.74,739.505 1940.26,739.792 \n",
       "  1998.77,739.986 2057.28,740.111 2115.79,740.195 2174.3,740.249 2232.81,740.284 2291.32,740.307 \n",
       "  \"/>\n",
       "<polyline clip-path=\"url(#clip6002)\" style=\"stroke:#f05f73; stroke-width:4; stroke-opacity:1; fill:none\" points=\"\n",
       "  243.444,427.682 301.955,563.553 360.466,528.17 418.976,584.306 477.487,581.437 535.998,550.967 594.509,557.644 653.019,563.041 711.53,584.309 770.041,593.526 \n",
       "  828.552,602.756 887.062,609.219 945.573,615.056 1004.08,619.944 1062.59,628.984 1121.11,634.601 1179.62,640.751 1238.13,664.57 1296.64,683.23 1355.15,775.971 \n",
       "  1413.66,757.279 1472.17,757.911 1530.68,750.601 1589.19,748.006 1647.7,745.089 1706.21,743.61 1764.72,742.416 1823.23,741.727 1881.74,741.233 1940.26,740.93 \n",
       "  1998.77,740.724 2057.28,740.594 2115.79,740.508 2174.3,740.453 2232.81,740.417 2291.32,740.394 \n",
       "  \"/>\n",
       "<polyline clip-path=\"url(#clip6002)\" style=\"stroke:#dd64b5; stroke-width:4; stroke-opacity:1; fill:none\" points=\"\n",
       "  243.444,359.747 301.955,274.828 360.466,338.517 418.976,349.84 477.487,384.75 535.998,431.155 594.509,457.009 653.019,557.88 711.53,575.134 770.041,599.045 \n",
       "  828.552,610.786 887.062,621.028 945.573,628.163 1004.08,634.071 1062.59,636.639 1121.11,642.092 1179.62,646.222 1238.13,650.725 1296.64,662.739 1355.15,693.044 \n",
       "  1413.66,719.389 1472.17,728.053 1530.68,734.288 1589.19,736.641 1647.7,738.455 1706.21,739.202 1764.72,739.747 1823.23,739.994 1881.74,740.161 1940.26,740.242 \n",
       "  1998.77,740.293 2057.28,740.319 2115.79,740.334 2174.3,740.342 2232.81,740.347 2291.32,740.349 \n",
       "  \"/>\n",
       "<polyline clip-path=\"url(#clip6002)\" style=\"stroke:#6b9e32; stroke-width:4; stroke-opacity:1; fill:none\" points=\"\n",
       "  243.444,88.0053 301.955,223.876 360.466,249.352 418.976,293.935 477.487,321.887 535.998,353.318 594.509,490.526 653.019,523.013 711.53,569.481 770.041,587.561 \n",
       "  828.552,603.552 887.062,613.557 945.573,621.567 1004.08,627.699 1062.59,632.811 1121.11,636.334 1179.62,640.542 1238.13,644.571 1296.64,684.881 1355.15,687.466 \n",
       "  1413.66,706.677 1472.17,717.713 1530.68,725.924 1589.19,731.365 1647.7,734.668 1706.21,736.848 1764.72,738.152 1823.23,738.993 1881.74,739.502 1940.26,739.825 \n",
       "  1998.77,740.023 2057.28,740.147 2115.79,740.224 2174.3,740.272 2232.81,740.301 2291.32,740.32 \n",
       "  \"/>\n",
       "<polyline clip-path=\"url(#clip6002)\" style=\"stroke:#718c69; stroke-width:4; stroke-opacity:1; fill:none\" points=\"\n",
       "  243.444,495.618 301.955,614.505 360.466,695.801 418.976,690.73 477.487,678.415 535.998,662.346 594.509,652.818 653.019,635.629 711.53,630.608 770.041,624.8 \n",
       "  828.552,624.374 887.062,624.764 945.573,626.545 1004.08,628.78 1062.59,633.327 1121.11,637.325 1179.62,641.904 1238.13,663.472 1296.64,675.845 1355.15,740.024 \n",
       "  1413.66,732.862 1472.17,738.544 1530.68,737.971 1589.19,739.151 1647.7,739.314 1706.21,739.724 1764.72,739.885 1823.23,740.054 1881.74,740.145 1940.26,740.217 \n",
       "  1998.77,740.261 2057.28,740.292 2115.79,740.312 2174.3,740.326 2232.81,740.334 2291.32,740.34 \n",
       "  \"/>\n",
       "<polyline clip-path=\"url(#clip6002)\" style=\"stroke:#47988b; stroke-width:4; stroke-opacity:1; fill:none\" points=\"\n",
       "  243.444,1039.1 301.955,937.198 360.466,770.19 418.976,696.114 477.487,626.906 535.998,609.549 594.509,602.023 653.019,597.97 711.53,599.428 770.041,604.259 \n",
       "  828.552,608.614 887.062,613.388 945.573,617.639 1004.08,631.347 1062.59,636.208 1121.11,642.819 1179.62,647.479 1238.13,652.23 1296.64,675.615 1355.15,697.655 \n",
       "  1413.66,729.594 1472.17,732.085 1530.68,737.978 1589.19,738.521 1647.7,739.733 1706.21,739.884 1764.72,740.159 1823.23,740.212 1881.74,740.283 1940.26,740.303 \n",
       "  1998.77,740.324 2057.28,740.333 2115.79,740.34 2174.3,740.344 2232.81,740.346 2291.32,740.348 \n",
       "  \"/>\n",
       "<polyline clip-path=\"url(#clip6002)\" style=\"stroke:#1ea68c; stroke-width:4; stroke-opacity:1; fill:none\" points=\"\n",
       "  243.444,699.424 301.955,654.134 360.466,676.779 418.976,648.881 477.487,522.182 535.998,555.463 594.509,562.125 653.019,574.314 711.53,581.832 770.041,592.709 \n",
       "  828.552,599.979 887.062,606.876 945.573,612.417 1004.08,630.858 1062.59,637.506 1121.11,645.63 1179.62,704.29 1238.13,734.023 1296.64,744.084 1355.15,745.268 \n",
       "  1413.66,753.889 1472.17,746.819 1530.68,746.746 1589.19,743.949 1647.7,743.107 1706.21,742.012 1764.72,741.506 1823.23,741.069 1881.74,740.83 1940.26,740.653 \n",
       "  1998.77,740.548 2057.28,740.476 2115.79,740.432 2174.3,740.402 2232.81,740.384 2291.32,740.372 \n",
       "  \"/>\n",
       "<polyline clip-path=\"url(#clip6002)\" style=\"stroke:#af78dd; stroke-width:4; stroke-opacity:1; fill:none\" points=\"\n",
       "  243.444,1242.91 301.955,1265.55 360.466,1235.36 418.976,1215.98 477.487,1200.89 535.998,1187 594.509,1173.82 653.019,1160.99 711.53,1148.4 770.041,1135.9 \n",
       "  828.552,1122.56 887.062,1109.19 945.573,1095.9 1004.08,1082.86 1062.59,1065.72 1121.11,1048.6 1179.62,1031.64 1238.13,1015.25 1296.64,977.422 1355.15,808.532 \n",
       "  1413.66,793.347 1472.17,769.806 1530.68,760.051 1589.19,752.369 1647.7,748.19 1706.21,745.281 1764.72,743.545 1823.23,742.387 1881.74,741.668 1940.26,741.197 \n",
       "  1998.77,740.898 2057.28,740.703 2115.79,740.579 2174.3,740.498 2232.81,740.446 2291.32,740.412 \n",
       "  \"/>\n",
       "<path clip-path=\"url(#clip6000)\" d=\"\n",
       "M1963.16 1400.84 L2280.76 1400.84 L2280.76 130.764 L1963.16 130.764  Z\n",
       "  \" fill=\"#ffffff\" fill-rule=\"evenodd\" fill-opacity=\"1\"/>\n",
       "<polyline clip-path=\"url(#clip6000)\" style=\"stroke:#000000; stroke-width:4; stroke-opacity:1; fill:none\" points=\"\n",
       "  1963.16,1400.84 2280.76,1400.84 2280.76,130.764 1963.16,130.764 1963.16,1400.84 \n",
       "  \"/>\n",
       "<polyline clip-path=\"url(#clip6000)\" style=\"stroke:#009af9; stroke-width:4; stroke-opacity:1; fill:none\" points=\"\n",
       "  1987.16,191.244 2131.16,191.244 \n",
       "  \"/>\n",
       "<g clip-path=\"url(#clip6000)\">\n",
       "<text style=\"fill:#000000; fill-opacity:1; font-family:Arial,Helvetica Neue,Helvetica,sans-serif; font-size:48px; text-anchor:start;\" transform=\"rotate(0, 2155.16, 208.744)\" x=\"2155.16\" y=\"208.744\">y1</text>\n",
       "</g>\n",
       "<polyline clip-path=\"url(#clip6000)\" style=\"stroke:#e26f46; stroke-width:4; stroke-opacity:1; fill:none\" points=\"\n",
       "  1987.16,251.724 2131.16,251.724 \n",
       "  \"/>\n",
       "<g clip-path=\"url(#clip6000)\">\n",
       "<text style=\"fill:#000000; fill-opacity:1; font-family:Arial,Helvetica Neue,Helvetica,sans-serif; font-size:48px; text-anchor:start;\" transform=\"rotate(0, 2155.16, 269.224)\" x=\"2155.16\" y=\"269.224\">y2</text>\n",
       "</g>\n",
       "<polyline clip-path=\"url(#clip6000)\" style=\"stroke:#3da44d; stroke-width:4; stroke-opacity:1; fill:none\" points=\"\n",
       "  1987.16,312.204 2131.16,312.204 \n",
       "  \"/>\n",
       "<g clip-path=\"url(#clip6000)\">\n",
       "<text style=\"fill:#000000; fill-opacity:1; font-family:Arial,Helvetica Neue,Helvetica,sans-serif; font-size:48px; text-anchor:start;\" transform=\"rotate(0, 2155.16, 329.704)\" x=\"2155.16\" y=\"329.704\">y3</text>\n",
       "</g>\n",
       "<polyline clip-path=\"url(#clip6000)\" style=\"stroke:#c271d2; stroke-width:4; stroke-opacity:1; fill:none\" points=\"\n",
       "  1987.16,372.684 2131.16,372.684 \n",
       "  \"/>\n",
       "<g clip-path=\"url(#clip6000)\">\n",
       "<text style=\"fill:#000000; fill-opacity:1; font-family:Arial,Helvetica Neue,Helvetica,sans-serif; font-size:48px; text-anchor:start;\" transform=\"rotate(0, 2155.16, 390.184)\" x=\"2155.16\" y=\"390.184\">y4</text>\n",
       "</g>\n",
       "<polyline clip-path=\"url(#clip6000)\" style=\"stroke:#ac8d18; stroke-width:4; stroke-opacity:1; fill:none\" points=\"\n",
       "  1987.16,433.164 2131.16,433.164 \n",
       "  \"/>\n",
       "<g clip-path=\"url(#clip6000)\">\n",
       "<text style=\"fill:#000000; fill-opacity:1; font-family:Arial,Helvetica Neue,Helvetica,sans-serif; font-size:48px; text-anchor:start;\" transform=\"rotate(0, 2155.16, 450.664)\" x=\"2155.16\" y=\"450.664\">y5</text>\n",
       "</g>\n",
       "<polyline clip-path=\"url(#clip6000)\" style=\"stroke:#00a9ad; stroke-width:4; stroke-opacity:1; fill:none\" points=\"\n",
       "  1987.16,493.644 2131.16,493.644 \n",
       "  \"/>\n",
       "<g clip-path=\"url(#clip6000)\">\n",
       "<text style=\"fill:#000000; fill-opacity:1; font-family:Arial,Helvetica Neue,Helvetica,sans-serif; font-size:48px; text-anchor:start;\" transform=\"rotate(0, 2155.16, 511.144)\" x=\"2155.16\" y=\"511.144\">y6</text>\n",
       "</g>\n",
       "<polyline clip-path=\"url(#clip6000)\" style=\"stroke:#ed5d92; stroke-width:4; stroke-opacity:1; fill:none\" points=\"\n",
       "  1987.16,554.124 2131.16,554.124 \n",
       "  \"/>\n",
       "<g clip-path=\"url(#clip6000)\">\n",
       "<text style=\"fill:#000000; fill-opacity:1; font-family:Arial,Helvetica Neue,Helvetica,sans-serif; font-size:48px; text-anchor:start;\" transform=\"rotate(0, 2155.16, 571.624)\" x=\"2155.16\" y=\"571.624\">y7</text>\n",
       "</g>\n",
       "<polyline clip-path=\"url(#clip6000)\" style=\"stroke:#c68125; stroke-width:4; stroke-opacity:1; fill:none\" points=\"\n",
       "  1987.16,614.604 2131.16,614.604 \n",
       "  \"/>\n",
       "<g clip-path=\"url(#clip6000)\">\n",
       "<text style=\"fill:#000000; fill-opacity:1; font-family:Arial,Helvetica Neue,Helvetica,sans-serif; font-size:48px; text-anchor:start;\" transform=\"rotate(0, 2155.16, 632.104)\" x=\"2155.16\" y=\"632.104\">y8</text>\n",
       "</g>\n",
       "<polyline clip-path=\"url(#clip6000)\" style=\"stroke:#00a98d; stroke-width:4; stroke-opacity:1; fill:none\" points=\"\n",
       "  1987.16,675.084 2131.16,675.084 \n",
       "  \"/>\n",
       "<g clip-path=\"url(#clip6000)\">\n",
       "<text style=\"fill:#000000; fill-opacity:1; font-family:Arial,Helvetica Neue,Helvetica,sans-serif; font-size:48px; text-anchor:start;\" transform=\"rotate(0, 2155.16, 692.584)\" x=\"2155.16\" y=\"692.584\">y9</text>\n",
       "</g>\n",
       "<polyline clip-path=\"url(#clip6000)\" style=\"stroke:#8e971d; stroke-width:4; stroke-opacity:1; fill:none\" points=\"\n",
       "  1987.16,735.564 2131.16,735.564 \n",
       "  \"/>\n",
       "<g clip-path=\"url(#clip6000)\">\n",
       "<text style=\"fill:#000000; fill-opacity:1; font-family:Arial,Helvetica Neue,Helvetica,sans-serif; font-size:48px; text-anchor:start;\" transform=\"rotate(0, 2155.16, 753.064)\" x=\"2155.16\" y=\"753.064\">y10</text>\n",
       "</g>\n",
       "<polyline clip-path=\"url(#clip6000)\" style=\"stroke:#00a8cb; stroke-width:4; stroke-opacity:1; fill:none\" points=\"\n",
       "  1987.16,796.044 2131.16,796.044 \n",
       "  \"/>\n",
       "<g clip-path=\"url(#clip6000)\">\n",
       "<text style=\"fill:#000000; fill-opacity:1; font-family:Arial,Helvetica Neue,Helvetica,sans-serif; font-size:48px; text-anchor:start;\" transform=\"rotate(0, 2155.16, 813.544)\" x=\"2155.16\" y=\"813.544\">y11</text>\n",
       "</g>\n",
       "<polyline clip-path=\"url(#clip6000)\" style=\"stroke:#9b7fe8; stroke-width:4; stroke-opacity:1; fill:none\" points=\"\n",
       "  1987.16,856.524 2131.16,856.524 \n",
       "  \"/>\n",
       "<g clip-path=\"url(#clip6000)\">\n",
       "<text style=\"fill:#000000; fill-opacity:1; font-family:Arial,Helvetica Neue,Helvetica,sans-serif; font-size:48px; text-anchor:start;\" transform=\"rotate(0, 2155.16, 874.024)\" x=\"2155.16\" y=\"874.024\">y12</text>\n",
       "</g>\n",
       "<polyline clip-path=\"url(#clip6000)\" style=\"stroke:#608cf6; stroke-width:4; stroke-opacity:1; fill:none\" points=\"\n",
       "  1987.16,917.004 2131.16,917.004 \n",
       "  \"/>\n",
       "<g clip-path=\"url(#clip6000)\">\n",
       "<text style=\"fill:#000000; fill-opacity:1; font-family:Arial,Helvetica Neue,Helvetica,sans-serif; font-size:48px; text-anchor:start;\" transform=\"rotate(0, 2155.16, 934.504)\" x=\"2155.16\" y=\"934.504\">y13</text>\n",
       "</g>\n",
       "<polyline clip-path=\"url(#clip6000)\" style=\"stroke:#f05f73; stroke-width:4; stroke-opacity:1; fill:none\" points=\"\n",
       "  1987.16,977.484 2131.16,977.484 \n",
       "  \"/>\n",
       "<g clip-path=\"url(#clip6000)\">\n",
       "<text style=\"fill:#000000; fill-opacity:1; font-family:Arial,Helvetica Neue,Helvetica,sans-serif; font-size:48px; text-anchor:start;\" transform=\"rotate(0, 2155.16, 994.984)\" x=\"2155.16\" y=\"994.984\">y14</text>\n",
       "</g>\n",
       "<polyline clip-path=\"url(#clip6000)\" style=\"stroke:#dd64b5; stroke-width:4; stroke-opacity:1; fill:none\" points=\"\n",
       "  1987.16,1037.96 2131.16,1037.96 \n",
       "  \"/>\n",
       "<g clip-path=\"url(#clip6000)\">\n",
       "<text style=\"fill:#000000; fill-opacity:1; font-family:Arial,Helvetica Neue,Helvetica,sans-serif; font-size:48px; text-anchor:start;\" transform=\"rotate(0, 2155.16, 1055.46)\" x=\"2155.16\" y=\"1055.46\">y15</text>\n",
       "</g>\n",
       "<polyline clip-path=\"url(#clip6000)\" style=\"stroke:#6b9e32; stroke-width:4; stroke-opacity:1; fill:none\" points=\"\n",
       "  1987.16,1098.44 2131.16,1098.44 \n",
       "  \"/>\n",
       "<g clip-path=\"url(#clip6000)\">\n",
       "<text style=\"fill:#000000; fill-opacity:1; font-family:Arial,Helvetica Neue,Helvetica,sans-serif; font-size:48px; text-anchor:start;\" transform=\"rotate(0, 2155.16, 1115.94)\" x=\"2155.16\" y=\"1115.94\">y16</text>\n",
       "</g>\n",
       "<polyline clip-path=\"url(#clip6000)\" style=\"stroke:#718c69; stroke-width:4; stroke-opacity:1; fill:none\" points=\"\n",
       "  1987.16,1158.92 2131.16,1158.92 \n",
       "  \"/>\n",
       "<g clip-path=\"url(#clip6000)\">\n",
       "<text style=\"fill:#000000; fill-opacity:1; font-family:Arial,Helvetica Neue,Helvetica,sans-serif; font-size:48px; text-anchor:start;\" transform=\"rotate(0, 2155.16, 1176.42)\" x=\"2155.16\" y=\"1176.42\">y17</text>\n",
       "</g>\n",
       "<polyline clip-path=\"url(#clip6000)\" style=\"stroke:#47988b; stroke-width:4; stroke-opacity:1; fill:none\" points=\"\n",
       "  1987.16,1219.4 2131.16,1219.4 \n",
       "  \"/>\n",
       "<g clip-path=\"url(#clip6000)\">\n",
       "<text style=\"fill:#000000; fill-opacity:1; font-family:Arial,Helvetica Neue,Helvetica,sans-serif; font-size:48px; text-anchor:start;\" transform=\"rotate(0, 2155.16, 1236.9)\" x=\"2155.16\" y=\"1236.9\">y18</text>\n",
       "</g>\n",
       "<polyline clip-path=\"url(#clip6000)\" style=\"stroke:#1ea68c; stroke-width:4; stroke-opacity:1; fill:none\" points=\"\n",
       "  1987.16,1279.88 2131.16,1279.88 \n",
       "  \"/>\n",
       "<g clip-path=\"url(#clip6000)\">\n",
       "<text style=\"fill:#000000; fill-opacity:1; font-family:Arial,Helvetica Neue,Helvetica,sans-serif; font-size:48px; text-anchor:start;\" transform=\"rotate(0, 2155.16, 1297.38)\" x=\"2155.16\" y=\"1297.38\">y19</text>\n",
       "</g>\n",
       "<polyline clip-path=\"url(#clip6000)\" style=\"stroke:#af78dd; stroke-width:4; stroke-opacity:1; fill:none\" points=\"\n",
       "  1987.16,1340.36 2131.16,1340.36 \n",
       "  \"/>\n",
       "<g clip-path=\"url(#clip6000)\">\n",
       "<text style=\"fill:#000000; fill-opacity:1; font-family:Arial,Helvetica Neue,Helvetica,sans-serif; font-size:48px; text-anchor:start;\" transform=\"rotate(0, 2155.16, 1357.86)\" x=\"2155.16\" y=\"1357.86\">y20</text>\n",
       "</g>\n",
       "</svg>\n"
      ]
     },
     "execution_count": 33,
     "metadata": {},
     "output_type": "execute_result"
    }
   ],
   "source": [
    "plot(1:size(ids)[2],transpose(ids))"
   ]
  },
  {
   "cell_type": "code",
   "execution_count": null,
   "metadata": {},
   "outputs": [],
   "source": [
    "colornet!(model)\n",
    "drawcolorgraph(model)"
   ]
  },
  {
   "cell_type": "code",
   "execution_count": null,
   "metadata": {},
   "outputs": [],
   "source": [
    "model = ermodel(60, 0.1, IGraph)\n",
    "assignid!(model)\n",
    "ids, steps = fullsim!(model, 0.9)\n",
    "@gif for i=1:size(ids)[2]\n",
    "    plot(1:i,transpose(ids)[1:i, :], xlims=(1, size(ids)[2]))\n",
    "end"
   ]
  },
  {
   "cell_type": "code",
   "execution_count": null,
   "metadata": {},
   "outputs": [],
   "source": [
    "colornet!(model)\n",
    "drawcolorgraph(model)"
   ]
  },
  {
   "cell_type": "markdown",
   "metadata": {},
   "source": [
    "In the presence of a media account, many accounts will become \"entrained\" to the media account. A handful of accounts may retain different ideology."
   ]
  },
  {
   "cell_type": "code",
   "execution_count": 34,
   "metadata": {
    "scrolled": false
   },
   "outputs": [
    {
     "name": "stderr",
     "output_type": "stream",
     "text": [
      "┌ Info: Saved animation to \n",
      "│   fn = /home/dylan/code/IdeologyGraphs/notebooks/tmp.gif\n",
      "└ @ Plots /home/dylan/.julia/packages/Plots/12uaJ/src/animation.jl:98\n"
     ]
    },
    {
     "data": {
      "text/html": [
       "<img src=\"data:image/gif;base64,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\" />"
      ],
      "text/plain": [
       "Plots.AnimatedGif(\"/home/dylan/code/IdeologyGraphs/notebooks/tmp.gif\")"
      ]
     },
     "execution_count": 34,
     "metadata": {},
     "output_type": "execute_result"
    }
   ],
   "source": [
    "model = ermodel(120, 0.1, IGraph)\n",
    "assignid!(model)\n",
    "addmedia_nearest!(model, 1, 12, [0.8])\n",
    "addmedia_nearest!(model, 1, 12, [-0.8])\n",
    "ids = fullsim!(model, 0.5)\n",
    "@gif for i=1:size(ids)[2]\n",
    "    plot(1:i,transpose(ids)[1:i, :], xlims=(1, size(ids)[2]), legend = nothing)\n",
    "end"
   ]
  },
  {
   "cell_type": "code",
   "execution_count": 22,
   "metadata": {},
   "outputs": [
    {
     "ename": "InterruptException",
     "evalue": "InterruptException:",
     "output_type": "error",
     "traceback": [
      "InterruptException:",
      "",
      "Stacktrace:",
      " [1] get(::Plots.Attr, ::Symbol, ::Float64) at /home/dylan/.julia/packages/Plots/12uaJ/src/types.jl:32",
      " [2] slice_arg!(::Plots.Attr, ::Plots.Attr, ::Symbol, ::Int64, ::Bool) at /home/dylan/.julia/packages/Plots/12uaJ/src/args.jl:1254",
      " [3] _update_subplot_args(::Plots.Plot{Plots.GRBackend}, ::Plots.Subplot{Plots.GRBackend}, ::Plots.Attr, ::Int64, ::Bool) at /home/dylan/.julia/packages/Plots/12uaJ/src/args.jl:1529",
      " [4] _prepare_subplot(::Plots.Plot{Plots.GRBackend}, ::Plots.Attr) at /home/dylan/.julia/packages/Plots/12uaJ/src/pipeline.jl:312",
      " [5] _process_seriesrecipe(::Plots.Plot{Plots.GRBackend}, ::Plots.Attr) at /home/dylan/.julia/packages/Plots/12uaJ/src/pipeline.jl:403",
      " [6] _plot!(::Plots.Plot{Plots.GRBackend}, ::Dict{Symbol,Any}, ::Tuple{UnitRange{Int64},Array{Float64,2}}) at /home/dylan/.julia/packages/Plots/12uaJ/src/plot.jl:233",
      " [7] #plot#138(::Base.Iterators.Pairs{Symbol,Union{Nothing, Tuple{Int64,Int64}},Tuple{Symbol,Symbol},NamedTuple{(:xlims, :legend),Tuple{Tuple{Int64,Int64},Nothing}}}, ::typeof(plot), ::UnitRange{Int64}, ::Vararg{Any,N} where N) at /home/dylan/.julia/packages/Plots/12uaJ/src/plot.jl:57",
      " [8] (::RecipesBase.var\"#kw##plot\")(::NamedTuple{(:xlims, :legend),Tuple{Tuple{Int64,Int64},Nothing}}, ::typeof(plot), ::UnitRange{Int64}, ::Array{Float64,2}) at ./none:0",
      " [9] top-level scope at ./In[22]:7"
     ]
    }
   ],
   "source": [
    "model = ermodel(20, 0.3, IGraph)\n",
    "assignid!(model)\n",
    "#addmedia_rand!(model, 1, 12, 0.8)\n",
    "#addmedia_rand!(model, 1, 12, -0.8)\n",
    "ids = fullsim!(model, 0.5)\n",
    "@gif for i=1:size(ids)[2]\n",
    "    plot(1:i,transpose(ids)[1:i, :], xlims=(1, size(ids)[2]), legend = nothing)\n",
    "end"
   ]
  },
  {
   "cell_type": "code",
   "execution_count": null,
   "metadata": {},
   "outputs": [],
   "source": [
    "model = wsmodel(100, 8, 0.5, IGraph)\n",
    "assignid!(model)\n",
    "addmedia_nearest!(model, 1, 12, [0.8])\n",
    "addmedia_nearest!(model, 1, 12, [-0.8])\n",
    "ids, steps = fullsim!(model, 0.5, 10^(-4), 1000)\n",
    "@gif for i=1:size(ids)[2]\n",
    "    plot(1:i,transpose(ids)[1:i, :], xlims=(1, size(ids)[2]))\n",
    "end"
   ]
  },
  {
   "cell_type": "code",
   "execution_count": null,
   "metadata": {},
   "outputs": [],
   "source": [
    "model = wsmodel(100, 8, 0.5, IGraph)\n",
    "assignid!(model)\n",
    "addmedia_rand!(model, 2, 12, 0.6)\n",
    "addmedia_rand!(model, 2, 12, -0.6)\n",
    "ids, steps = fullsim!(model, 0.5, 10^(-4), 1000)\n",
    "@gif for i=1:size(ids)[2]\n",
    "    plot(1:i,transpose(ids)[1:i, :], xlims=(1, size(ids)[2]))\n",
    "end"
   ]
  },
  {
   "cell_type": "code",
   "execution_count": null,
   "metadata": {},
   "outputs": [],
   "source": [
    "model = SNAPIdeog(:ego_twitter_u, IGraph)\n",
    "assignid!(model)\n",
    "addmedia_nearest!(model, 10, 1000, [0.3, 0.3, 0.3, 0.5, 0.5, 0.5, 0.5, 0.7, 0.7, 0.7])\n",
    "addmedia_nearest!(model, 10, 1000, [-0.3, -0.3, -0.3, -0.5, -0.5, -0.5, -0.5, -0.7, -0.7, -0.7])"
   ]
  },
  {
   "cell_type": "code",
   "execution_count": null,
   "metadata": {},
   "outputs": [],
   "source": [
    "ids, steps = fullsim!(model, 0.5, 10^(-4), 300)"
   ]
  },
  {
   "cell_type": "code",
   "execution_count": null,
   "metadata": {},
   "outputs": [],
   "source": [
    "@gif for i=1:size(ids)[2]\n",
    "    plot(1:i,transpose(ids)[1:i, :], xlims=(1, size(ids)[2]))\n",
    "end"
   ]
  },
  {
   "cell_type": "code",
   "execution_count": null,
   "metadata": {},
   "outputs": [],
   "source": [
    "verts = random_verts(model.g, 500)\n",
    "@gif for i=1:size(ids)[2]\n",
    "    plot(1:i,transpose(ids)[1:i, verts], xlims=(1, size(ids)[2]), legend = nothing)\n",
    "end"
   ]
  },
  {
   "cell_type": "code",
   "execution_count": null,
   "metadata": {},
   "outputs": [],
   "source": []
  }
 ],
 "metadata": {
  "kernelspec": {
   "display_name": "Julia 1.3.1",
   "language": "julia",
   "name": "julia-1.3"
  },
  "language_info": {
   "file_extension": ".jl",
   "mimetype": "application/julia",
   "name": "julia",
   "version": "1.3.1"
  }
 },
 "nbformat": 4,
 "nbformat_minor": 2
}
