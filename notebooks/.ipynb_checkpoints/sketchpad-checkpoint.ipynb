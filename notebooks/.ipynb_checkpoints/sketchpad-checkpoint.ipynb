{
 "cells": [
  {
   "cell_type": "markdown",
   "metadata": {},
   "source": [
    "# Sketchpad\n",
    "\n",
    "Various experiments with ideology graphs."
   ]
  },
  {
   "cell_type": "code",
   "execution_count": null,
   "metadata": {},
   "outputs": [],
   "source": [
    "# imports and includes\n",
    "using LightGraphs, MetaGraphs, SNAPDatasets, Random, GraphPlot, Compose, Plots\n",
    "include(\"../src/models.jl\")   # Graph models\n",
    "include(\"../src/dynamics.jl\") # Dynamical systems\n",
    "include(\"../src/dataviz.jl\")  # Plotting for our graphs"
   ]
  },
  {
   "cell_type": "markdown",
   "metadata": {},
   "source": [
    "## Simple ideology graphs\n",
    "\n",
    "Here we do the simple experiments. No quality attribute, 1- and 2-D ideology attributes, various graph generation models. No \"media accounts.\"\n",
    "\n",
    "### Erdos-Renyi models with a few different parameters. Small models."
   ]
  },
  {
   "cell_type": "code",
   "execution_count": null,
   "metadata": {
    "scrolled": true
   },
   "outputs": [],
   "source": [
    "model = ermodel(20, 0.3, IGraph)\n",
    "assignid!(model)\n",
    "colornet!(model)\n",
    "drawcolorgraph(model)"
   ]
  },
  {
   "cell_type": "code",
   "execution_count": null,
   "metadata": {},
   "outputs": [],
   "source": [
    "model = ermodel(50, 0.15, IGraph)\n",
    "assignid!(model)\n",
    "colornet!(model)\n",
    "drawcolorgraph(model)"
   ]
  },
  {
   "cell_type": "markdown",
   "metadata": {},
   "source": [
    "### Erdos-Renyi model with media accounts added"
   ]
  },
  {
   "cell_type": "code",
   "execution_count": null,
   "metadata": {},
   "outputs": [],
   "source": [
    "\n",
    "Back To Specials\n",
    "model = ermodel(30, 0.2, IGraph)\n",
    "assignid!(model)\n",
    "addmedia_rand!(model, 2, 6, 0.5)\n",
    "colornet!(model)\n",
    "drawcolorgraph(model)"
   ]
  },
  {
   "cell_type": "code",
   "execution_count": null,
   "metadata": {},
   "outputs": [],
   "source": [
    "model = wsmodel(50, 4, 0.3, IGraph)\n",
    "assignid!(model)\n",
    "addmedia_nearest!(model, 2, 5, [-0.9, 0.9])\n",
    "colornet!(model)\n",
    "drawcolorgraph(model)"
   ]
  },
  {
   "cell_type": "markdown",
   "metadata": {},
   "source": [
    "## Simple dynamical experiments\n",
    "\n",
    "In a simple ER model all but the most extreme accounts homogenize to a fairly neutral ideology. In sufficiently connected graphs, or with a large enough acceptance parameter, all accounts will generally homogenize."
   ]
  },
  {
   "cell_type": "code",
   "execution_count": null,
   "metadata": {},
   "outputs": [],
   "source": [
    "model = ermodel(20, 0.3, IGraph)\n",
    "assignid!(model)\n",
    "ids, steps = fullsim!(model, 0.5)\n"
   ]
  },
  {
   "cell_type": "code",
   "execution_count": null,
   "metadata": {},
   "outputs": [],
   "source": [
    "transpose(ids)[:,1]"
   ]
  },
  {
   "cell_type": "code",
   "execution_count": null,
   "metadata": {},
   "outputs": [],
   "source": [
    "plot(1:size(ids)[2],transpose(ids))"
   ]
  },
  {
   "cell_type": "code",
   "execution_count": null,
   "metadata": {},
   "outputs": [],
   "source": [
    "colornet!(model)\n",
    "drawcolorgraph(model)"
   ]
  },
  {
   "cell_type": "code",
   "execution_count": null,
   "metadata": {},
   "outputs": [],
   "source": [
    "model = ermodel(60, 0.1, IGraph)\n",
    "assignid!(model)\n",
    "ids, steps = fullsim!(model, 0.9)\n",
    "@gif for i=1:size(ids)[2]\n",
    "    plot(1:i,transpose(ids)[1:i, :], xlims=(1, size(ids)[2]))\n",
    "end"
   ]
  },
  {
   "cell_type": "code",
   "execution_count": null,
   "metadata": {},
   "outputs": [],
   "source": [
    "colornet!(model)\n",
    "drawcolorgraph(model)"
   ]
  },
  {
   "cell_type": "markdown",
   "metadata": {},
   "source": [
    "In the presence of a media account, many accounts will become \"entrained\" to the media account. A handful of accounts may retain different ideology."
   ]
  },
  {
   "cell_type": "code",
   "execution_count": null,
   "metadata": {
    "scrolled": false
   },
   "outputs": [],
   "source": [
    "model = ermodel(120, 0.1, IGraph)\n",
    "assignid!(model)\n",
    "addmedia_nearest!(model, 1, 12, [0.8])\n",
    "addmedia_nearest!(model, 1, 12, [-0.8])\n",
    "ids, steps = fullsim!(model, 0.5)\n",
    "@gif for i=1:size(ids)[2]\n",
    "    plot(1:i,transpose(ids)[1:i, :], xlims=(1, size(ids)[2]), legend = nothing)\n",
    "end"
   ]
  },
  {
   "cell_type": "code",
   "execution_count": null,
   "metadata": {},
   "outputs": [],
   "source": [
    "model = ermodel(120, 0.1, IGraph)\n",
    "assignid!(model)\n",
    "addmedia_rand!(model, 1, 12, 0.8)\n",
    "addmedia_rand!(model, 1, 12, -0.8)\n",
    "ids, steps = fullsim!(model, 0.5)\n",
    "@gif for i=1:size(ids)[2]\n",
    "    plot(1:i,transpose(ids)[1:i, :], xlims=(1, size(ids)[2]), legend = nothing)\n",
    "end"
   ]
  },
  {
   "cell_type": "code",
   "execution_count": null,
   "metadata": {},
   "outputs": [],
   "source": [
    "model = wsmodel(100, 8, 0.5, IGraph)\n",
    "assignid!(model)\n",
    "addmedia_nearest!(model, 1, 12, [0.8])\n",
    "addmedia_nearest!(model, 1, 12, [-0.8])\n",
    "ids, steps = fullsim!(model, 0.5, 10^(-4), 1000)\n",
    "@gif for i=1:size(ids)[2]\n",
    "    plot(1:i,transpose(ids)[1:i, :], xlims=(1, size(ids)[2]))\n",
    "end"
   ]
  },
  {
   "cell_type": "code",
   "execution_count": null,
   "metadata": {},
   "outputs": [],
   "source": [
    "model = wsmodel(100, 8, 0.5, IGraph)\n",
    "assignid!(model)\n",
    "addmedia_rand!(model, 2, 12, 0.6)\n",
    "addmedia_rand!(model, 2, 12, -0.6)\n",
    "ids, steps = fullsim!(model, 0.5, 10^(-4), 1000)\n",
    "@gif for i=1:size(ids)[2]\n",
    "    plot(1:i,transpose(ids)[1:i, :], xlims=(1, size(ids)[2]))\n",
    "end"
   ]
  },
  {
   "cell_type": "code",
   "execution_count": null,
   "metadata": {},
   "outputs": [],
   "source": []
  }
 ],
 "metadata": {
  "kernelspec": {
   "display_name": "Julia 1.3.1",
   "language": "julia",
   "name": "julia-1.3"
  },
  "language_info": {
   "file_extension": ".jl",
   "mimetype": "application/julia",
   "name": "julia",
   "version": "1.3.1"
  }
 },
 "nbformat": 4,
 "nbformat_minor": 2
}
