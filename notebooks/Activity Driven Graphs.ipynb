{
 "cells": [
  {
   "cell_type": "markdown",
   "metadata": {},
   "source": [
    "# Activity Driven Graphs"
   ]
  },
  {
   "cell_type": "code",
   "execution_count": null,
   "metadata": {},
   "outputs": [],
   "source": [
    "using Random"
   ]
  },
  {
   "cell_type": "code",
   "execution_count": null,
   "metadata": {},
   "outputs": [],
   "source": [
    "hphdist(x, y, β) = abs(x - y)^(-β)"
   ]
  },
  {
   "cell_type": "code",
   "execution_count": null,
   "metadata": {},
   "outputs": [],
   "source": [
    "abstract type ADGraph end\n",
    "\n",
    "struct ADIGraph <: ADGraph\n",
    "    ideologies::Array{Float64, 1} \n",
    "    β::Float64\n",
    "    α::Float64\n",
    "end\n",
    "\n",
    "struct ADQGraph <: ADGraph\n",
    "    ideologies::Array{Float64, 1}\n",
    "    qualities::Array{Float64, 1}\n",
    "    β::Float64\n",
    "    α::Float64\n",
    "end"
   ]
  },
  {
   "cell_type": "code",
   "execution_count": null,
   "metadata": {},
   "outputs": [],
   "source": [
    "function updateg(model::ADIGraph)\n",
    "    n = length(model.ideologies)\n",
    "    newids = copy(model.ideologies)\n",
    "    for i=1:n\n",
    "        norm = sum(hphdist(model.ideologies[i], model.ideologies[j], model.β) for j=1:n if i != j)\n",
    "        for j=1:n\n",
    "            connections = 0\n",
    "            if i == j\n",
    "                continue\n",
    "            end\n",
    "            p = hphdist(model.ideologies[i], model.ideologies[j], model.β) / norm\n",
    "            if rand() < p\n",
    "                newids[i] += model.ideologies[j]\n",
    "                connections += 1\n",
    "            end\n",
    "        end\n",
    "        newids[i] /= connections + 1\n",
    "    end\n",
    "    newids\n",
    "end"
   ]
  },
  {
   "cell_type": "code",
   "execution_count": null,
   "metadata": {},
   "outputs": [],
   "source": [
    "function updateg(model::ADQGraph)\n",
    "    n = length(model.ideologies)\n",
    "    for i=1:n\n",
    "        norm = sum(hphdist(model.ideologies[i], model.ideologies[j], model.β) for j=1:n if i != j)\n",
    "        for j=1:n\n",
    "            connections = 0\n",
    "            if i == j\n",
    "                continue\n",
    "            end\n",
    "            p = hphdist(model.ideologies[i], model.ideologies[j], model.β) / norm\n",
    "            if rand() < p\n",
    "                newids[i] += model.ideologies[j]\n",
    "                connections += 1\n",
    "            end\n",
    "        end\n",
    "        newids[i] /= connections + 1\n",
    "    end\n",
    "    newids\n",
    "end"
   ]
  }
 ],
 "metadata": {
  "kernelspec": {
   "display_name": "Julia 1.3.1",
   "language": "julia",
   "name": "julia-1.3"
  },
  "language_info": {
   "file_extension": ".jl",
   "mimetype": "application/julia",
   "name": "julia",
   "version": "1.3.1"
  }
 },
 "nbformat": 4,
 "nbformat_minor": 2
}
