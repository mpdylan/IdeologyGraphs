{
 "cells": [
  {
   "cell_type": "markdown",
   "metadata": {},
   "source": [
    "## Activity Driven Graph Reconstruction\n",
    "\n",
    "This is an extension of the static Brooks-Porter model with occasional reassignment of network structure according to activity-driven models."
   ]
  },
  {
   "cell_type": "code",
   "execution_count": null,
   "metadata": {},
   "outputs": [],
   "source": [
    "using LightGraphs, MetaGraphs, Plots\n",
    "include(\"../src/models.jl\")\n",
    "include(\"../src/dynamics.jl\")\n",
    "include(\"../src/dataviz.jl\")"
   ]
  },
  {
   "cell_type": "code",
   "execution_count": null,
   "metadata": {},
   "outputs": [],
   "source": [
    "function reassign_edges!(model, β)\n",
    "    \n",
    "    for i in vertices(model.g)\n",
    "        "
   ]
  }
 ],
 "metadata": {
  "kernelspec": {
   "display_name": "Julia 1.3.1",
   "language": "julia",
   "name": "julia-1.3"
  },
  "language_info": {
   "file_extension": ".jl",
   "mimetype": "application/julia",
   "name": "julia",
   "version": "1.3.1"
  }
 },
 "nbformat": 4,
 "nbformat_minor": 2
}
