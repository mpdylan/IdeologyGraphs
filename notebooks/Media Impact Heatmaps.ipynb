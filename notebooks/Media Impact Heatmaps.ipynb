{
 "cells": [
  {
   "cell_type": "markdown",
   "metadata": {},
   "source": [
    "# Finding the Optimal Media Strategy\n",
    "\n",
    "Brooks and Porter defined a media impact statistic by computing the statistic:\n",
    "\\begin{equation}\n",
    "R = \\frac{1}{N} \\sum \\|x_i^* - x_M \\|_2,\n",
    "\\end{equation}\n",
    "where $x_i^*$ is the ideology of the $i$th non-media account at convergence and $x_M$ is the common ideology of all media accounts. The mean baseline ideological distance is computed by omitting the media accounts from the simulation, and averaging over a large number of trials. \n",
    "\\begin{equation}\n",
    "R_M = \\frac{R_0}{R}\n",
    "\\end{equation}\n",
    "of the effect of the media on the ideology of the non-media accounts in the network. For a given network structure, This may be averaged over many samples to give an estimate of the overall effect of a certain amount of media influence. Somewhat surprisingly, they found that for most networks, including the natural network structures obtained from mid-2000s college Facebook networks, the media impact is not always increased by increasing the number of media accounts or their follower counts. Instead, the highest media impact is usually found along a curve in the (accounts, followers/account) plane.\n",
    "\n",
    "In this notebook, we attempt to replicate this result and extend it in two ways. First, we attempt to estimate the maximum-impact curve and provide an intuitive explanation for its existence. Second, we explore the case where there are multiple competing media ideologies instead of all media accounts sharing a common ideological position.\n",
    "\n",
    "## Replication of Existing Results"
   ]
  },
  {
   "cell_type": "code",
   "execution_count": 1,
   "metadata": {},
   "outputs": [
    {
     "data": {
      "text/plain": [
       "drawcolorgraph (generic function with 1 method)"
      ]
     },
     "execution_count": 1,
     "metadata": {},
     "output_type": "execute_result"
    }
   ],
   "source": [
    "# imports and includes\n",
    "using LightGraphs, MetaGraphs, SNAPDatasets, Random, GraphPlot, Compose, Plots\n",
    "include(\"../src/models.jl\")   # Graph models\n",
    "include(\"../src/dynamics.jl\") # Dynamical systems\n",
    "include(\"../src/dataviz.jl\")  # Plotting for our graphs"
   ]
  },
  {
   "cell_type": "markdown",
   "metadata": {},
   "source": [
    "Brooks and Porter explored several synthetic graph models as well as real social network structures. \n",
    "\n",
    "### Erdos-Renyi graphs, directed and undirected\n",
    "\n",
    "We consider Erdos-Renyi networks with $N = 1000$ vertices and mean degree (out-degree for directed graphs) 25.\n",
    "\n",
    "#### Single trial example"
   ]
  },
  {
   "cell_type": "code",
   "execution_count": 2,
   "metadata": {},
   "outputs": [
    {
     "name": "stdout",
     "output_type": "stream",
     "text": [
      "  9.619274 seconds (114.56 M allocations: 11.855 GiB, 19.88% gc time)\n"
     ]
    },
    {
     "data": {
      "text/plain": [
       "0.8985929635481004"
      ]
     },
     "execution_count": 2,
     "metadata": {},
     "output_type": "execute_result"
    }
   ],
   "source": [
    "Random.seed!(1534)\n",
    "g = ermodel(500, 0.05, IGraph)\n",
    "M = 0.9 # Media ideological position\n",
    "# Compute mean baseline ideological distance\n",
    "n_trials = 50\n",
    "R = zeros(n_trials)\n",
    "@time for i=1:n_trials\n",
    "    assignid!(g)\n",
    "    fullsim!(g, 0.5)\n",
    "    for j = 1:nv(g.g)\n",
    "        R[i] += g.distance(props(g.g, j)[:ideology], M) / nv(g.g)\n",
    "    end\n",
    "end\n",
    "mean_R₀ = sum(R) / n_trials"
   ]
  },
  {
   "cell_type": "code",
   "execution_count": 3,
   "metadata": {},
   "outputs": [
    {
     "name": "stdout",
     "output_type": "stream",
     "text": [
      "  7.404269 seconds (133.35 M allocations: 14.010 GiB, 16.26% gc time)\n"
     ]
    },
    {
     "data": {
      "text/plain": [
       "1.1108214100218186"
      ]
     },
     "execution_count": 3,
     "metadata": {},
     "output_type": "execute_result"
    }
   ],
   "source": [
    "# Add 20 media accounts with 20 followers each\n",
    "addmedia_rand!(g, 20, 20, M)\n",
    "n_trials = 50\n",
    "R = zeros(n_trials)\n",
    "@time for i=1:n_trials\n",
    "    assignid!(g)\n",
    "    fullsim!(g, 0.5)\n",
    "    for j = 1:nv(g.g)\n",
    "        R[i] += g.distance(props(g.g, j)[:ideology], M) / nv(g.g)\n",
    "    end\n",
    "end\n",
    "mean_R = sum(R) / n_trials\n",
    "mean_R₀ / mean_R"
   ]
  },
  {
   "cell_type": "code",
   "execution_count": 4,
   "metadata": {},
   "outputs": [
    {
     "data": {
      "text/plain": [
       "R_er (generic function with 1 method)"
      ]
     },
     "execution_count": 4,
     "metadata": {},
     "output_type": "execute_result"
    }
   ],
   "source": [
    "function R_er(N, M, mean_degree, n_media, n_followers, n_trials)\n",
    "    g = ermodel(N, 25 / N, IGraph)\n",
    "    R = zeros(n_trials)\n",
    "    for i=1:n_trials\n",
    "        assignid!(g)\n",
    "        fullsim!(g, 0.5)\n",
    "        for j = 1:nv(g.g)\n",
    "            R[i] += g.distance(props(g.g, j)[:ideology], M) / nv(g.g)\n",
    "        end\n",
    "    end\n",
    "    mean_R₀ = sum(R) / n_trials\n",
    "    addmedia_rand!(g, n_media, n_followers, M)\n",
    "    R = zeros(n_trials)\n",
    "    for i=1:n_trials\n",
    "        assignid!(g)\n",
    "        fullsim!(g, 0.5)\n",
    "        for j = 1:nv(g.g)\n",
    "        R[i] += g.distance(props(g.g, j)[:ideology], M) / nv(g.g)\n",
    "        end\n",
    "    end\n",
    "    mean_R = sum(R) / n_trials\n",
    "    mean_R₀ / mean_R\n",
    "end"
   ]
  },
  {
   "cell_type": "code",
   "execution_count": 5,
   "metadata": {},
   "outputs": [
    {
     "ename": "MethodError",
     "evalue": "MethodError: no method matching R_er(::Int64, ::Float64, ::Int64, ::Int64, ::Int64)\nClosest candidates are:\n  R_er(::Any, ::Any, ::Any, ::Any, ::Any, !Matched::Any) at In[4]:2",
     "output_type": "error",
     "traceback": [
      "MethodError: no method matching R_er(::Int64, ::Float64, ::Int64, ::Int64, ::Int64)\nClosest candidates are:\n  R_er(::Any, ::Any, ::Any, ::Any, ::Any, !Matched::Any) at In[4]:2",
      "",
      "Stacktrace:",
      " [1] top-level scope at In[5]:1"
     ]
    }
   ],
   "source": [
    "R_er(100, 0.9, 30, 30, 200)"
   ]
  },
  {
   "cell_type": "code",
   "execution_count": 6,
   "metadata": {},
   "outputs": [
    {
     "ename": "MethodError",
     "evalue": "MethodError: no method matching R_er(::Int64, ::Float64, ::Int64, ::Int64, ::Int64)\nClosest candidates are:\n  R_er(::Any, ::Any, ::Any, ::Any, ::Any, !Matched::Any) at In[4]:2",
     "output_type": "error",
     "traceback": [
      "MethodError: no method matching R_er(::Int64, ::Float64, ::Int64, ::Int64, ::Int64)\nClosest candidates are:\n  R_er(::Any, ::Any, ::Any, ::Any, ::Any, !Matched::Any) at In[4]:2",
      "",
      "Stacktrace:",
      " [1] top-level scope at ./In[6]:4"
     ]
    }
   ],
   "source": [
    "R_mat = zeros(20, 20)\n",
    "for n_media = 1:20\n",
    "    for n_followers = 1:20\n",
    "        R_mat[n_media, n_followers] = R_er(100, 0.9, n_media, n_followers, 100)\n",
    "    end\n",
    "end\n",
    "R_mat"
   ]
  },
  {
   "cell_type": "code",
   "execution_count": 7,
   "metadata": {},
   "outputs": [],
   "source": [
    "#heatmap(R_mat)"
   ]
  },
  {
   "cell_type": "markdown",
   "metadata": {},
   "source": [
    "### Natural network structures\n",
    "\n",
    "#### Facebook100 data set\n",
    "\n",
    "Now, we use the Reed College Facebook network from September 2005."
   ]
  },
  {
   "cell_type": "code",
   "execution_count": 10,
   "metadata": {},
   "outputs": [
    {
     "data": {
      "text/plain": [
       "1.674282619311616"
      ]
     },
     "execution_count": 10,
     "metadata": {},
     "output_type": "execute_result"
    }
   ],
   "source": [
    "function R_reed(n_media, n_followers, n_trials)\n",
    "    g = fbgraph(\"Reed98\", IGraph)\n",
    "    R = zeros(n_trials)\n",
    "    for i=1:n_trials\n",
    "        assignid!(g)\n",
    "        fullsim!(g, 0.5)\n",
    "        for j = 1:nv(g.g)\n",
    "            R[i] += g.distance(props(g.g, j)[:ideology], M) / nv(g.g)\n",
    "        end\n",
    "    end\n",
    "    mean_R₀ = sum(R) / n_trials\n",
    "    addmedia_rand!(g, n_media, n_followers, M)\n",
    "    R = zeros(n_trials)\n",
    "    for i=1:n_trials\n",
    "        assignid!(g)\n",
    "        fullsim!(g, 0.5)\n",
    "        for j = 1:nv(g.g)\n",
    "        R[i] += g.distance(props(g.g, j)[:ideology], M) / nv(g.g)\n",
    "        end\n",
    "    end\n",
    "    mean_R = sum(R) / n_trials\n",
    "    mean_R₀ / mean_R\n",
    "end\n",
    "R_reed(11, 225, 1)"
   ]
  },
  {
   "cell_type": "code",
   "execution_count": 11,
   "metadata": {},
   "outputs": [
    {
     "name": "stdout",
     "output_type": "stream",
     "text": [
      " 48.400164 seconds (916.59 M allocations: 104.369 GiB, 16.32% gc time)\n"
     ]
    },
    {
     "data": {
      "text/plain": [
       "1.0070993351156488"
      ]
     },
     "execution_count": 11,
     "metadata": {},
     "output_type": "execute_result"
    }
   ],
   "source": [
    "@time R_reed(11, 10, 2)"
   ]
  },
  {
   "cell_type": "code",
   "execution_count": null,
   "metadata": {},
   "outputs": [
    {
     "name": "stdout",
     "output_type": "stream",
     "text": [
      "Working on entry 1,1Working on entry 1,2Working on entry 1,3Working on entry 1,4Working on entry 1,5Working on entry 1,6Working on entry 1,7Working on entry 1,8Working on entry 1,9Working on entry 1,10Working on entry 1,11Working on entry 1,12Working on entry 1,13Working on entry 1,14Working on entry 1,15Working on entry 1,16Working on entry 1,17Working on entry 1,18Working on entry 1,19Working on entry 1,20Working on entry 1,21Working on entry 1,22Working on entry 1,23Working on entry 1,24Working on entry 1,25Working on entry 2,1Working on entry 2,2Working on entry 2,3Working on entry 2,4Working on entry 2,5Working on entry 2,6Working on entry 2,7Working on entry 2,8Working on entry 2,9Working on entry 2,10Working on entry 2,11Working on entry 2,12Working on entry 2,13Working on entry 2,14Working on entry 2,15Working on entry 2,16Working on entry 2,17Working on entry 2,18Working on entry 2,19Working on entry 2,20Working on entry 2,21Working on entry 2,22Working on entry 2,23Working on entry 2,24Working on entry 2,25Working on entry 3,1Working on entry 3,2Working on entry 3,3Working on entry 3,4Working on entry 3,5Working on entry 3,6Working on entry 3,7Working on entry 3,8Working on entry 3,9Working on entry 3,10Working on entry 3,11Working on entry 3,12Working on entry 3,13Working on entry 3,14Working on entry 3,15Working on entry 3,16Working on entry 3,17Working on entry 3,18Working on entry 3,19Working on entry 3,20Working on entry 3,21Working on entry 3,22Working on entry 3,23Working on entry 3,24Working on entry 3,25Working on entry 4,1Working on entry 4,2Working on entry 4,3Working on entry 4,4Working on entry 4,5Working on entry 4,6Working on entry 4,7Working on entry 4,8Working on entry 4,9Working on entry 4,10Working on entry 4,11Working on entry 4,12Working on entry 4,13Working on entry 4,14Working on entry 4,15Working on entry 4,16Working on entry 4,17Working on entry 4,18Working on entry 4,19Working on entry 4,20Working on entry 4,21Working on entry 4,22Working on entry 4,23Working on entry 4,24Working on entry 4,25Working on entry 5,1Working on entry 5,2Working on entry 5,3Working on entry 5,4Working on entry 5,5Working on entry 5,6Working on entry 5,7Working on entry 5,8Working on entry 5,9Working on entry 5,10Working on entry 5,11Working on entry 5,12Working on entry 5,13Working on entry 5,14Working on entry 5,15Working on entry 5,16Working on entry 5,17Working on entry 5,18Working on entry 5,19Working on entry 5,20Working on entry 5,21Working on entry 5,22Working on entry 5,23Working on entry 5,24Working on entry 5,25Working on entry 6,1Working on entry 6,2Working on entry 6,3Working on entry 6,4Working on entry 6,5Working on entry 6,6Working on entry 6,7Working on entry 6,8Working on entry 6,9Working on entry 6,10Working on entry 6,11Working on entry 6,12Working on entry 6,13Working on entry 6,14Working on entry 6,15Working on entry 6,16Working on entry 6,17Working on entry 6,18Working on entry 6,19Working on entry 6,20Working on entry 6,21Working on entry 6,22Working on entry 6,23Working on entry 6,24Working on entry 6,25Working on entry 7,1Working on entry 7,2Working on entry 7,3Working on entry 7,4Working on entry 7,5Working on entry 7,6Working on entry 7,7Working on entry 7,8Working on entry 7,9Working on entry 7,10Working on entry 7,11Working on entry 7,12Working on entry 7,13Working on entry 7,14Working on entry 7,15Working on entry 7,16Working on entry 7,17Working on entry 7,18Working on entry 7,19Working on entry 7,20Working on entry 7,21Working on entry 7,22Working on entry 7,23Working on entry 7,24Working on entry 7,25Working on entry 8,1Working on entry 8,2Working on entry 8,3Working on entry 8,4Working on entry 8,5Working on entry 8,6Working on entry 8,7Working on entry 8,8Working on entry 8,9Working on entry 8,10Working on entry 8,11Working on entry 8,12Working on entry 8,13Working on entry 8,14"
     ]
    }
   ],
   "source": [
    "R_mat = zeros(25, 25)\n",
    "@time for n_media = 1:25\n",
    "    for n_followers = 1:25\n",
    "        print(\"Working on entry \", n_media, \",\", n_followers)\n",
    "        R_mat[n_media, n_followers] = R_reed(n_media, n_followers, 100)\n",
    "    end\n",
    "end\n",
    "R_mat"
   ]
  },
  {
   "cell_type": "code",
   "execution_count": null,
   "metadata": {},
   "outputs": [],
   "source": [
    "function R_smith(n_media, n_followers, n_trials)\n",
    "    g = fbgraph(\"Smith60\", IGraph)\n",
    "    R = zeros(n_trials)\n",
    "    for i=1:n_trials\n",
    "        assignid!(g)\n",
    "        fullsim!(g, 0.5)\n",
    "        for j = 1:nv(g.g)\n",
    "            R[i] += g.distance(props(g.g, j)[:ideology], M) / nv(g.g)\n",
    "        end\n",
    "    end\n",
    "    mean_R₀ = sum(R) / n_trials\n",
    "    addmedia_rand!(g, n_media, n_followers, M)\n",
    "    R = zeros(n_trials)\n",
    "    for i=1:n_trials\n",
    "        assignid!(g)\n",
    "        fullsim!(g, 0.5)\n",
    "        for j = 1:nv(g.g)\n",
    "        R[i] += g.distance(props(g.g, j)[:ideology], M) / nv(g.g)\n",
    "        end\n",
    "    end\n",
    "    mean_R = sum(R) / n_trials\n",
    "    mean_R₀ / mean_R\n",
    "end"
   ]
  },
  {
   "cell_type": "code",
   "execution_count": null,
   "metadata": {},
   "outputs": [],
   "source": [
    "Smith_mat = zeros(25, 25)\n",
    "@time for n_media = 1:25\n",
    "    for n_followers = 1:25\n",
    "        print(\"Working on entry \", n_media, \",\", n_followers)\n",
    "        Smith_mat[n_media, n_followers] = R_smith(n_media, n_followers, 100)\n",
    "    end\n",
    "end\n",
    "Smith_mat"
   ]
  },
  {
   "cell_type": "markdown",
   "metadata": {},
   "source": [
    "## What's that curve?"
   ]
  },
  {
   "cell_type": "markdown",
   "metadata": {},
   "source": [
    "## Multiple media ideologies\n",
    "\n",
    "In the real world, of course, not all media influence comes from the same ideological position. Indeed, a major goal of this research is to better understand the effect of divergent media ideology on the formation of so-called \"echo chambers.\"\n",
    "\n",
    "In order to characterize media impact in the multipolar media setting, we must define new metrics of media impact, since the statistic $R$ defined in the beginning of this notebook is defined in terms of distance from a single media ideology.\n",
    "\n",
    "#### Average Distance Impact\n",
    "\n",
    "Similar to the statistic $R$ defined before, we define the *average distance impact* statistic by averaging the ideological distance between each individual's account at convergence with and without media presence.\n",
    "\\begin{equation}\n",
    "R = \\frac{1}{N} \\sum_{i=1}^N \\|x_i^* - x_i^{*(0)}\\|_2\n",
    "\\end{equation}\n",
    "where $x_i^*$ is the ideology of the *i*th non-media account at convergence in the presence of media, and $x_i^{*(0)}$ is the same account's ideology at convergence without all media accounts.\n",
    "\n",
    "#### Mean Ideological Position\n",
    "\n",
    "A very simple way to measure a media position's \"success\" in capturing the aggregate population is to compute the mean ideological position of all non-media accounts.\n",
    "\n",
    "#### Follower Entrainment\n",
    "\n",
    "Finally, we define several metrics for absolute and relative follower entrainment. A simple metric is $\\hat p_E$, the proportion of non-media accounts that are near the media account's ideology; as a first approximation, we consider \"near\" to mean within $2\\varepsilon$, where $\\varepsilon$ is the simulation convergence tolerance. For a more nuanced measurement, we can compute $F(x; x_M)$, the cumulative distribution function for the distance of non-media accounts from the media ideology $x_M$. The relative media entrainment of two media ideologies $x_M, x_N$ is measured by\n",
    "\\begin{equation}\n",
    "    \\int_0^\\infty (F(x; x_M) - F(x; x_N)) dx.\n",
    "\\end{equation}"
   ]
  },
  {
   "cell_type": "code",
   "execution_count": null,
   "metadata": {},
   "outputs": [],
   "source": []
  }
 ],
 "metadata": {
  "kernelspec": {
   "display_name": "Julia 1.3.1",
   "language": "julia",
   "name": "julia-1.3"
  },
  "language_info": {
   "file_extension": ".jl",
   "mimetype": "application/julia",
   "name": "julia",
   "version": "1.3.1"
  }
 },
 "nbformat": 4,
 "nbformat_minor": 2
}
