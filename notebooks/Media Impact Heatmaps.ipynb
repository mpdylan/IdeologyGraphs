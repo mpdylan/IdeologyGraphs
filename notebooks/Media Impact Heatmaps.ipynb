{
 "cells": [
  {
   "cell_type": "markdown",
   "metadata": {},
   "source": [
    "# Finding the Optimal Media Strategy\n",
    "\n",
    "Brooks and Porter defined a media impact statistic by computing the statistic:\n",
    "\\begin{equation}\n",
    "R = \\frac{1}{N} \\sum \\|x_i^* - x_M \\|_2,\n",
    "\\end{equation}\n",
    "where $x_i^*$ is the ideology of the $i$th non-media account at convergence and $x_M$ is the common ideology of all media accounts. The mean baseline ideological distance is computed by omitting the media accounts from the simulation, and averaging over a large number of trials. \n",
    "\\begin{equation}\n",
    "R_M = \\frac{R_0}{R}\n",
    "\\end{equation}\n",
    "of the effect of the media on the ideology of the non-media accounts in the network. For a given network structure, This may be averaged over many samples to give an estimate of the overall effect of a certain amount of media influence. Somewhat surprisingly, they found that for most networks, including the natural network structures obtained from mid-2000s college Facebook networks, the media impact is not always increased by increasing the number of media accounts or their follower counts. Instead, the highest media impact is usually found along a curve in the (accounts, followers/account) plane.\n",
    "\n",
    "In this notebook, we attempt to replicate this result and extend it in two ways. First, we attempt to estimate the maximum-impact curve and provide an intuitive explanation for its existence. Second, we explore the case where there are multiple competing media ideologies instead of all media accounts sharing a common ideological position.\n",
    "\n",
    "## Replication of Existing Results"
   ]
  },
  {
   "cell_type": "code",
   "execution_count": null,
   "metadata": {},
   "outputs": [],
   "source": [
    "# imports and includes\n",
    "using LightGraphs, MetaGraphs, SNAPDatasets, Random, GraphPlot, Compose, Plots\n",
    "include(\"../src/models.jl\")   # Graph models\n",
    "include(\"../src/dynamics.jl\") # Dynamical systems\n",
    "include(\"../src/dataviz.jl\")  # Plotting for our graphs"
   ]
  },
  {
   "cell_type": "markdown",
   "metadata": {},
   "source": [
    "Brooks and Porter explored several synthetic graph models as well as real social network structures. \n",
    "\n",
    "### Erdos-Renyi graphs, directed and undirected\n",
    "\n",
    "We consider Erdos-Renyi networks with $N = 1000$ vertices and mean degree (out-degree for directed graphs) 25.\n",
    "\n",
    "#### Single trial example"
   ]
  },
  {
   "cell_type": "code",
   "execution_count": null,
   "metadata": {},
   "outputs": [],
   "source": [
    "Random.seed!(1534)\n",
    "g = ermodel(500, 0.05, IGraph)\n",
    "M = 0.9 # Media ideological position\n",
    "# Compute mean baseline ideological distance\n",
    "n_trials = 50\n",
    "R = zeros(n_trials)\n",
    "@time for i=1:n_trials\n",
    "    assignid!(g)\n",
    "    fullsim!(g, 0.5)\n",
    "    for j = 1:nv(g.g)\n",
    "        R[i] += g.distance(props(g.g, j)[:ideology], M) / nv(g.g)\n",
    "    end\n",
    "end\n",
    "mean_R₀ = sum(R) / n_trials"
   ]
  },
  {
   "cell_type": "code",
   "execution_count": null,
   "metadata": {},
   "outputs": [],
   "source": [
    "# Add 20 media accounts with 20 followers each\n",
    "addmedia_rand!(g, 20, 20, M)\n",
    "n_trials = 50\n",
    "R = zeros(n_trials)\n",
    "@time for i=1:n_trials\n",
    "    assignid!(g)\n",
    "    fullsim!(g, 0.5)\n",
    "    for j = 1:nv(g.g)\n",
    "        R[i] += g.distance(props(g.g, j)[:ideology], M) / nv(g.g)\n",
    "    end\n",
    "end\n",
    "mean_R = sum(R) / n_trials\n",
    "mean_R₀ / mean_R"
   ]
  },
  {
   "cell_type": "code",
   "execution_count": null,
   "metadata": {},
   "outputs": [],
   "source": [
    "function R_er(N, M, mean_degree, n_media, n_followers, n_trials)\n",
    "    g = ermodel(N, 25 / N, IGraph)\n",
    "    R = zeros(n_trials)\n",
    "    for i=1:n_trials\n",
    "        assignid!(g)\n",
    "        fullsim!(g, 0.5)\n",
    "        for j = 1:nv(g.g)\n",
    "            R[i] += g.distance(props(g.g, j)[:ideology], M) / nv(g.g)\n",
    "        end\n",
    "    end\n",
    "    mean_R₀ = sum(R) / n_trials\n",
    "    addmedia_rand!(g, n_media, n_followers, M)\n",
    "    R = zeros(n_trials)\n",
    "    for i=1:n_trials\n",
    "        assignid!(g)\n",
    "        fullsim!(g, 0.5)\n",
    "        for j = 1:nv(g.g)\n",
    "        R[i] += g.distance(props(g.g, j)[:ideology], M) / nv(g.g)\n",
    "        end\n",
    "    end\n",
    "    mean_R = sum(R) / n_trials\n",
    "    mean_R₀ / mean_R\n",
    "end"
   ]
  },
  {
   "cell_type": "code",
   "execution_count": null,
   "metadata": {},
   "outputs": [],
   "source": [
    "R_er(100, 0.9, 30, 30, 200)"
   ]
  },
  {
   "cell_type": "code",
   "execution_count": null,
   "metadata": {},
   "outputs": [],
   "source": [
    "R_mat = zeros(20, 20)\n",
    "for n_media = 1:20\n",
    "    for n_followers = 1:20\n",
    "        R_mat[n_media, n_followers] = R_er(100, 0.9, n_media, n_followers, 100)\n",
    "    end\n",
    "end\n",
    "R_mat"
   ]
  },
  {
   "cell_type": "code",
   "execution_count": null,
   "metadata": {},
   "outputs": [],
   "source": [
    "heatmap(R_mat)"
   ]
  },
  {
   "cell_type": "markdown",
   "metadata": {},
   "source": [
    "### Natural network structures\n",
    "\n",
    "#### Facebook100 data set\n",
    "\n",
    "Now, we use the Reed College Facebook network from September 2005."
   ]
  },
  {
   "cell_type": "code",
   "execution_count": null,
   "metadata": {},
   "outputs": [],
   "source": [
    "function R_reed(n_media, n_followers, n_trials)\n",
    "    g = fbgraph(\"Reed98\", IGraph)\n",
    "    R = zeros(n_trials)\n",
    "    for i=1:n_trials\n",
    "        assignid!(g)\n",
    "        fullsim!(g, 0.5)\n",
    "        for j = 1:nv(g.g)\n",
    "            R[i] += g.distance(props(g.g, j)[:ideology], M) / nv(g.g)\n",
    "        end\n",
    "    end\n",
    "    mean_R₀ = sum(R) / n_trials\n",
    "    addmedia_rand!(g, n_media, n_followers, M)\n",
    "    R = zeros(n_trials)\n",
    "    for i=1:n_trials\n",
    "        assignid!(g)\n",
    "        fullsim!(g, 0.5)\n",
    "        for j = 1:nv(g.g)\n",
    "        R[i] += g.distance(props(g.g, j)[:ideology], M) / nv(g.g)\n",
    "        end\n",
    "    end\n",
    "    mean_R = sum(R) / n_trials\n",
    "    mean_R₀ / mean_R\n",
    "end\n",
    "R_reed(11, 225, 1)"
   ]
  },
  {
   "cell_type": "code",
   "execution_count": null,
   "metadata": {},
   "outputs": [],
   "source": [
    "@time R_reed(11, 10, 2)"
   ]
  },
  {
   "cell_type": "markdown",
   "metadata": {},
   "source": [
    "## What's that curve?"
   ]
  },
  {
   "cell_type": "markdown",
   "metadata": {},
   "source": [
    "## Multiple media ideologies\n",
    "\n",
    "In the real world, of course, not all media influence comes from the same ideological position. Indeed, a major goal of this research is to better understand the effect of divergent media ideology on the formation of so-called \"echo chambers.\"\n",
    "\n",
    "In order to characterize media impact in the multipolar media setting, we must define new metrics of media impact, since the statistic $R$ defined in the beginning of this notebook is defined in terms of distance from a single media ideology.\n",
    "\n",
    "#### Average Distance Impact\n",
    "\n",
    "Similar to the statistic $R$ defined before, we define the *average distance impact* statistic by averaging the ideological distance between each individual's account at convergence with and without media presence.\n",
    "\\begin{equation}\n",
    "R = \\frac{1}{N} \\sum_{i=1}^N \\|x_i^* - x_i^{*(0)}\\|_2\n",
    "\\end{equation}\n",
    "where $x_i^*$ is the ideology of the *i*th non-media account at convergence in the presence of media, and $x_i^{*(0)}$ is the same account's ideology at convergence without all media accounts.\n",
    "\n",
    "#### Mean Ideological Position\n",
    "\n",
    "A very simple way to measure a media position's \"success\" in capturing the aggregate population is to compute the mean ideological position of all non-media accounts.\n",
    "\n",
    "#### Follower Entrainment\n",
    "\n",
    "Finally, we define several metrics for absolute and relative follower entrainment. A simple metric is $\\hat p_E$, the proportion of non-media accounts that are near the media account's ideology; as a first approximation, we consider \"near\" to mean within $2\\varepsilon$, where $\\varepsilon$ is the simulation convergence tolerance. For a more nuanced measurement, we can compute $F(x; x_M)$, the cumulative distribution function for the distance of non-media accounts from the media ideology $x_M$. The relative media entrainment of two media ideologies $x_M, x_N$ is measured by\n",
    "\\begin{equation}\n",
    "    \\int_0^\\infty (F(x; x_M) - F(x; x_N)) dx.\n",
    "\\end{equation}"
   ]
  },
  {
   "cell_type": "code",
   "execution_count": null,
   "metadata": {},
   "outputs": [],
   "source": []
  }
 ],
 "metadata": {
  "kernelspec": {
   "display_name": "Julia 1.3.1",
   "language": "julia",
   "name": "julia-1.3"
  },
  "language_info": {
   "file_extension": ".jl",
   "mimetype": "application/julia",
   "name": "julia",
   "version": "1.3.1"
  }
 },
 "nbformat": 4,
 "nbformat_minor": 2
}
